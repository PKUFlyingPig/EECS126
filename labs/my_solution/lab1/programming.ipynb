{
 "cells": [
  {
   "cell_type": "markdown",
   "metadata": {},
   "source": [
    "# Programming for Probability\n",
    "\n",
    "#### Authors:\n",
    "v1.0 (Spring 2020) William Gan, Aditya Sengupta, Christina Zhang, Sasha Khazatsky, Kannan Ramchandran"
   ]
  },
  {
   "cell_type": "markdown",
   "metadata": {},
   "source": [
    "## Introduction\n",
    "\n",
    "What's the probability that a 5 card hand in poker is a flush? What's the expected number of times you have to flip a coin until you see three heads in a row? What's the optimal way to play blackjack at a casino?\n",
    "\n",
    "In EECS 126, we teach you techniques to answer these questions with just pencil and paper. However, in the real world, it can be useful to simply use computers to calculate these answers. In this lab, we give an overview of various techniques to do so and give you some practice."
   ]
  },
  {
   "cell_type": "code",
   "execution_count": 1,
   "metadata": {},
   "outputs": [],
   "source": [
    "import itertools\n",
    "\n",
    "import numpy as np"
   ]
  },
  {
   "cell_type": "code",
   "execution_count": 2,
   "metadata": {},
   "outputs": [
    {
     "data": {
      "text/plain": [
       "2598960"
      ]
     },
     "execution_count": 2,
     "metadata": {},
     "output_type": "execute_result"
    }
   ],
   "source": [
    "48 * 49 * 50 * 51 * 52 // 5 // 4 // 3 // 2 "
   ]
  },
  {
   "cell_type": "markdown",
   "metadata": {},
   "source": [
    "## Q1: Brute Force / Exhaustive Search\n",
    "\n",
    "Sometimes it's possible to iterate through every outcome. For example, to find the probability that a 5 card hand in poker is a flush, maybe we can just iterate over every possible 5 card hand and then see how many are flushes. Since every 5 card hand is equally likely, the probability can be found via simple division."
   ]
  },
  {
   "cell_type": "markdown",
   "metadata": {},
   "source": [
    "**Question: How many 5 card hands are there (exact number)?**\n",
    "\n",
    "YOUR ANSWER HERE"
   ]
  },
  {
   "cell_type": "markdown",
   "metadata": {},
   "source": [
    "**Fill in the following functions that are used to calculate if a hand is a flush.** A 5-card hand is a flush if all the suits are the same and it is not a straight. A straight consists of 5 consecutive ranks e.g. 8 9 10 J Q. Ranks are not allowed to wrap around (e.g. K A 2 3 4) is not a straight; however, the ace **is** allowed to be at the front or back. So 10 J Q K A and A 2 3 4 5 are straights. You can run `test_is_consecutive` to make sure it works."
   ]
  },
  {
   "cell_type": "code",
   "execution_count": 6,
   "metadata": {},
   "outputs": [],
   "source": [
    "RANKS = [2, 3, 4, 5, 6, 7, 8, 9, 10, 'J', 'Q', 'K', 'A']\n",
    "SUITS = ['C', 'D', 'H', 'S']"
   ]
  },
  {
   "cell_type": "code",
   "execution_count": 47,
   "metadata": {},
   "outputs": [],
   "source": [
    "def is_same_suit(hand):\n",
    "    ### BEGIN YOUR SOLUTION\n",
    "    suit = hand[0][1]\n",
    "    for _, s in hand:\n",
    "        assert s in SUITS\n",
    "        if s != suit:\n",
    "            return False\n",
    "    return True\n",
    "    ### END YOUR SOLUTION\n",
    "    \n",
    "def is_consecutive(hand):\n",
    "    ### BEGIN YOUR SOLUTION\n",
    "    assert len(hand) == 5\n",
    "    numerical_ranks = [RANKS.index(card[0]) + 2 for card in hand]\n",
    "    sorted_ranks = sorted(numerical_ranks)\n",
    "    if sorted_ranks == [2, 3, 4, 5, 14]:\n",
    "        return True\n",
    "    for i in range(4):\n",
    "        if not sorted_ranks[i + 1] == sorted_ranks[i] + 1:\n",
    "            return False\n",
    "    return True\n",
    "    ### END YOUR SOLUTION\n",
    "\n",
    "def is_flush(hand):\n",
    "    assert len(hand) == 5\n",
    "    return is_same_suit(hand) and not is_consecutive(hand)"
   ]
  },
  {
   "cell_type": "code",
   "execution_count": 48,
   "metadata": {},
   "outputs": [
    {
     "data": {
      "text/plain": [
       "True"
      ]
     },
     "execution_count": 48,
     "metadata": {},
     "output_type": "execute_result"
    }
   ],
   "source": [
    "is_consecutive((('A', 'H'), (2, 'H'), (3, 'H'), (4, 'D'), (5, 'C')))"
   ]
  },
  {
   "cell_type": "code",
   "execution_count": 49,
   "metadata": {},
   "outputs": [],
   "source": [
    "def test_is_consecutive():\n",
    "    assert is_consecutive(((8, 'C'), (9, 'D'), (10, 'H'), ('J', 'S'), ('Q', 'C')))\n",
    "    assert not is_consecutive(((8, 'C'), (9, 'D'), (2, 'H'), ('J', 'S'), ('Q', 'C')))\n",
    "    assert is_consecutive(((10, 'C'), ('J', 'C'), ('Q', 'C'), ('K', 'C'), ('A', 'C')))\n",
    "    assert is_consecutive((('A', 'H'), (2, 'H'), (3, 'H'), (4, 'D'), (5, 'C')))\n",
    "    assert not is_consecutive((('K', 'H'), ('A', 'H'), (2, 'H'), (3, 'D'), (4, 'C')))\n",
    "    print('All tests passed')"
   ]
  },
  {
   "cell_type": "code",
   "execution_count": 50,
   "metadata": {},
   "outputs": [
    {
     "name": "stdout",
     "output_type": "stream",
     "text": [
      "All tests passed\n"
     ]
    }
   ],
   "source": [
    "test_is_consecutive()"
   ]
  },
  {
   "cell_type": "markdown",
   "metadata": {},
   "source": [
    "`itertools` is a built-in Python library that provides Python generators for things like permutations and combinations. For example, `itertools.product(RANKS, SUITS)` returns the tuples (2, 'C'), (2, 'D'), ..., ('A', 'S'). **Use it to iterate through every 5 card hand and calculate the probability of a flush.**\n",
    "\n",
    "Hint: Look through the Python documentation to find `itertools.combinations`."
   ]
  },
  {
   "cell_type": "code",
   "execution_count": 51,
   "metadata": {},
   "outputs": [
    {
     "name": "stdout",
     "output_type": "stream",
     "text": [
      "0.001965401545233478\n"
     ]
    }
   ],
   "source": [
    "deck = itertools.product(RANKS, SUITS)\n",
    "total = 0\n",
    "flushes = 0\n",
    "### BEGIN YOUR SOLUTION\n",
    "for hands in itertools.combinations(deck, 5):\n",
    "    total += 1\n",
    "    if is_flush(hands):\n",
    "        flushes += 1\n",
    "### END YOUR SOLUTION\n",
    "\n",
    "print(flushes / total)"
   ]
  },
  {
   "cell_type": "markdown",
   "metadata": {},
   "source": [
    "## Q2: Monte Carlo Simulation\n",
    "\n",
    "Sometimes there are too many outcomes to iterate over. While a single 5-card hand is relatively simple, a multi-player poker game can have billions of outcomes. Even if you were to group some outcomes based on symmetry, there would still be too many. Some problems, like finding how long it takes to see three heads in a row, have an infinite number of outcomes.\n",
    "\n",
    "In these situations, we can still find approximate answers via sampling. For example, to find how long it takes to see three heads in a row, maybe we can just play it out many times and take the average.\n",
    "\n",
    "To run this simulation, we need to be able to generate random events. Python's built-in `random` module allows you to do this, but usually we want to use `np.random`. They have more or less the same functionality, but using NumPy will sometimes have a performance advantage."
   ]
  },
  {
   "cell_type": "markdown",
   "metadata": {},
   "source": [
    "**In the following cell, use Monte Carlo sampling to calculate how many flips are needed to see three heads in a row.**"
   ]
  },
  {
   "cell_type": "code",
   "execution_count": 53,
   "metadata": {},
   "outputs": [
    {
     "name": "stdout",
     "output_type": "stream",
     "text": [
      "14.02417\n"
     ]
    }
   ],
   "source": [
    "TRIALS = 100000\n",
    "running_sum = 0\n",
    "for _ in range(TRIALS):\n",
    "    ### BEGIN YOUR SOLUTION\n",
    "    conti_heads = 0\n",
    "    while True:\n",
    "        running_sum += 1\n",
    "        if np.random.randint(0, 2) == 1:\n",
    "            conti_heads += 1\n",
    "            if conti_heads == 3:\n",
    "                break\n",
    "        else:\n",
    "            conti_heads = 0\n",
    "    ### END YOUR SOLUTION\n",
    "print(running_sum / TRIALS)"
   ]
  },
  {
   "cell_type": "markdown",
   "metadata": {},
   "source": [
    "### Q3: Birthday Paradox\n",
    "\n",
    "How many people do you think there need to be in a room for two of them to have the same birthday with probability at least 50%? A lot of people say $365 / 2 \\approx 180$, but it turns out the answer is a lot less. We can guess what this answer is using the following strategy.\n",
    "\n",
    "The more people there are in the room, the higher the probablity two of them have the same birthday. In other words, the probability is monotonically increasing, and we can binary search on the number of people in the room. For a specific number of people, we can estimate the probability that two have them the same birthday via simulation. "
   ]
  },
  {
   "cell_type": "markdown",
   "metadata": {},
   "source": [
    "**In the following cell, use Monte Carlo sampling to determine the probability that two people have the same birthday.** You can use `test_same_birthday` to verify the probabilities."
   ]
  },
  {
   "cell_type": "code",
   "execution_count": 57,
   "metadata": {},
   "outputs": [],
   "source": [
    "def p_same_birthday(num_people, trials=10000):\n",
    "    same_birthday_count = 0\n",
    "    ### BEGIN YOUR SOLUTION\n",
    "    for _ in range(trials):\n",
    "        birthdays = [np.random.randint(0, 365)]\n",
    "        for _ in range(num_people - 1):\n",
    "            birthday = np.random.randint(0, 365)\n",
    "            if birthday in birthdays:\n",
    "                same_birthday_count += 1\n",
    "                break\n",
    "            else:\n",
    "                birthdays.append(birthday)\n",
    "    ### END YOUR SOLUTION\n",
    "    return same_birthday_count / trials"
   ]
  },
  {
   "cell_type": "code",
   "execution_count": 58,
   "metadata": {},
   "outputs": [],
   "source": [
    "def test_p_same_birthday():\n",
    "    assert np.abs(p_same_birthday(10) - 0.11694817771107768) < 0.02\n",
    "    assert np.abs(p_same_birthday(40) - 0.891231809817949) < 0.02\n",
    "    print('All tests passed')"
   ]
  },
  {
   "cell_type": "code",
   "execution_count": 59,
   "metadata": {},
   "outputs": [
    {
     "name": "stdout",
     "output_type": "stream",
     "text": [
      "All tests passed\n"
     ]
    }
   ],
   "source": [
    "test_p_same_birthday()"
   ]
  },
  {
   "cell_type": "markdown",
   "metadata": {},
   "source": [
    "**In the following cell, use binary search to find the first value of `num_people` such that the estimated probability is at least 0.5.**"
   ]
  },
  {
   "cell_type": "code",
   "execution_count": 63,
   "metadata": {},
   "outputs": [],
   "source": [
    "def binary_search():\n",
    "    ### BEGIN YOUR SOLUTION\n",
    "    l, r = 0, 180\n",
    "    while l != r:\n",
    "        m = (l + r) // 2\n",
    "        if p_same_birthday(m) < 0.5:\n",
    "            l = m + 1\n",
    "        else:\n",
    "            r = m \n",
    "    return l\n",
    "    ### END YOUR SOLUTION"
   ]
  },
  {
   "cell_type": "code",
   "execution_count": 64,
   "metadata": {},
   "outputs": [
    {
     "data": {
      "text/plain": [
       "23"
      ]
     },
     "execution_count": 64,
     "metadata": {},
     "output_type": "execute_result"
    }
   ],
   "source": [
    "binary_search()"
   ]
  },
  {
   "cell_type": "markdown",
   "metadata": {},
   "source": [
    "## Q4: Tricks\n",
    "\n",
    "The message so far has basically been that for simple problems, we can just use brute force, and for harder problems, we can perform sampling. This is mostly true, but there is often an art that comes to both techniques. In many cases, you can exploit symmetries or be clever in other ways. We already did this with the 5-card flush probability: a more naive way would have been to iterate over all $52 \\cdot 51 \\cdot 50 \\cdot 49 \\cdot 48$ ways 5-cards could be dealt. Most \"tricks\" aren't as obvious, but when found, they can greatly speed up your program.\n",
    "\n",
    "Say we wanted to find the probability a 12-card hand is \"nice\". A hand is nice if it can be arranged in a way that is symmetrical. For 5-card hands, A K K 5 A is nice since it can be arranged into A K 5 K A, whereas 10 10 J Q 10 isn't nice. To find this probability, we could take a similar approach to the flush program, but that would involve going through 206379406870 hands. This isn't feasible, but it turns out some hands are the same, since in this problem, the suit doesn't matter. A hand is really just a tuple with the counts of each rank. For example 10 10 J Q 10 is\n",
    "\n",
    "2 | 3 | 4 | 5 | 6 | 7 | 8 | 9 | 10 | J | Q | K | A\n",
    "- | - | - | - | - | - | - | - | -- | - | - | - | -\n",
    "0 | 0 | 0 | 0 | 0 | 0 | 0 | 0 | 3  | 1 | 1 | 0 | 0\n",
    "\n",
    "And the number of unique tuples is far lower. So what we need to do is iterate through all the unique tuples. However, we also need to explicitly find the probability of each tuple, since they are not all the same."
   ]
  },
  {
   "cell_type": "markdown",
   "metadata": {},
   "source": [
    "**Question: Assume we can still distinguish cards by suit. How many 5-card combinations have 3 10s, 1 J, and 1 Q?**\n",
    "4 * 4 * 4 = 64"
   ]
  },
  {
   "cell_type": "markdown",
   "metadata": {},
   "source": [
    "We are going to use the unique tuple approach to calculate the probability that a 12-card hand is nice. **Fill out the following function that determines if a tuple represents a hand that is nice**. Your function must be general and work with any hand size (not just 12). You can use `test_is_nice` to verify if your implementation is correct."
   ]
  },
  {
   "cell_type": "code",
   "execution_count": 65,
   "metadata": {},
   "outputs": [],
   "source": [
    "def is_nice(hand_tuple):\n",
    "    assert len(hand_tuple) == 13\n",
    "    ### BEGIN YOUR SOLUTION\n",
    "    odd_num = 0\n",
    "    for i in hand_tuple:\n",
    "        if not i % 2 == 0:\n",
    "            odd_num += 1\n",
    "            if odd_num > 1:\n",
    "                return False\n",
    "    return True\n",
    "    ### END YOUR SOLUTION"
   ]
  },
  {
   "cell_type": "code",
   "execution_count": 66,
   "metadata": {},
   "outputs": [],
   "source": [
    "def test_is_nice():\n",
    "    assert is_nice((1, 0, 0, 0, 0, 0, 0, 0, 0, 0, 0, 0, 0))\n",
    "    assert is_nice((2, 0, 4, 0, 2, 0, 0, 1, 0, 4, 4, 0, 2))\n",
    "    assert is_nice((0, 0, 2, 0, 0, 0, 0, 0, 0, 0, 0, 2, 0))\n",
    "    assert not is_nice((2, 0, 3, 0, 2, 0, 0, 1, 0, 4, 4, 0, 2))\n",
    "    assert not is_nice((1, 1, 1, 1, 1, 1, 1, 1, 1, 1, 1, 1, 0))\n",
    "    print('All tests passed')"
   ]
  },
  {
   "cell_type": "code",
   "execution_count": 67,
   "metadata": {},
   "outputs": [
    {
     "name": "stdout",
     "output_type": "stream",
     "text": [
      "All tests passed\n"
     ]
    }
   ],
   "source": [
    "test_is_nice()"
   ]
  },
  {
   "cell_type": "markdown",
   "metadata": {},
   "source": [
    "Now we need to calculate the probability of a hand_tuple. However, for numerical precision, we may just want to keep track of the total number of card combinations to get a tuple. In the end, we can divide this by the number of possible 12-card hands to find the probability. **Fill in the following function that calculates this**. You can use `test_combinations` to verify your implementation is correct."
   ]
  },
  {
   "cell_type": "code",
   "execution_count": 68,
   "metadata": {},
   "outputs": [],
   "source": [
    "def combinations(hand_tuple):\n",
    "    assert len(hand_tuple) == 13\n",
    "    C = [1, 4, 6, 4, 1]\n",
    "    ### BEGIN YOUR SOLUTION\n",
    "    prod = 1\n",
    "    for i in hand_tuple:\n",
    "        prod *= C[i]\n",
    "    return prod\n",
    "    ### END YOUR SOLUTION"
   ]
  },
  {
   "cell_type": "code",
   "execution_count": 69,
   "metadata": {},
   "outputs": [],
   "source": [
    "def test_combinations():\n",
    "    assert combinations((1, 0, 0, 0, 0, 0, 0, 0, 0, 0, 0, 0, 0)) == 4\n",
    "    assert combinations((2, 0, 3, 0, 2, 0, 0, 1, 0, 4, 4, 0, 2)) == 3456\n",
    "    assert combinations((1, 3, 3, 4, 2, 2, 1, 1, 0, 0, 0, 2, 1)) == 884736\n",
    "    print('All tests passed')"
   ]
  },
  {
   "cell_type": "code",
   "execution_count": 70,
   "metadata": {},
   "outputs": [
    {
     "name": "stdout",
     "output_type": "stream",
     "text": [
      "All tests passed\n"
     ]
    }
   ],
   "source": [
    "test_combinations()"
   ]
  },
  {
   "cell_type": "markdown",
   "metadata": {},
   "source": [
    "What remains is to write a Python generator that can iterate through all unique tuples. This is a bit tricky, but can be done with the following idea. We recursively go through each index 0 to 12 in the tuple. At each index, we can decide to add 1 to that index or move onto the next index. We just need to make sure that we only take at most 4 cards from each index and have 12 cards in total.\n",
    "\n",
    "**Complete the following function**. You can use `test_unique_tuples` to verify your implementation is correct. If you wish, you may also write your own generator from scratch."
   ]
  },
  {
   "cell_type": "code",
   "execution_count": 80,
   "metadata": {},
   "outputs": [],
   "source": [
    "def unique_tuples(hand_size):\n",
    "    def helper(index, hand_array):\n",
    "        num_cards = sum(hand_array)\n",
    "        if num_cards == hand_size:\n",
    "            yield tuple(hand_array)\n",
    "            return\n",
    "        if index >= 13:\n",
    "            return\n",
    "        ### BEGIN YOUR SOLUTION\n",
    "        new_hand_array = hand_array.copy()\n",
    "        yield from helper(index + 1, new_hand_array)\n",
    "        new_hand_array = hand_array.copy()\n",
    "        new_hand_array[index] += 1\n",
    "        if new_hand_array[index] > 4:\n",
    "            return\n",
    "        yield from helper(index, new_hand_array)\n",
    "        ### END YOUR SOLUTION\n",
    "    yield from helper(0, [0 for x in range(13)])"
   ]
  },
  {
   "cell_type": "code",
   "execution_count": 81,
   "metadata": {},
   "outputs": [],
   "source": [
    "def test_unique_tuples():\n",
    "    total_combinations = 0\n",
    "    total_tuples = 0\n",
    "    for hand_tuple in unique_tuples(6):\n",
    "        total_combinations += combinations(hand_tuple)\n",
    "        total_tuples += 1\n",
    "    assert total_tuples == 18395\n",
    "    assert total_combinations == 20358520 \n",
    "    print('All tests passed')"
   ]
  },
  {
   "cell_type": "code",
   "execution_count": 82,
   "metadata": {},
   "outputs": [
    {
     "name": "stdout",
     "output_type": "stream",
     "text": [
      "All tests passed\n"
     ]
    }
   ],
   "source": [
    "test_unique_tuples()"
   ]
  },
  {
   "cell_type": "code",
   "execution_count": 83,
   "metadata": {},
   "outputs": [
    {
     "name": "stdout",
     "output_type": "stream",
     "text": [
      "0.00042909408134786544\n"
     ]
    }
   ],
   "source": [
    "TOTAL = 206379406870\n",
    "total_combinations = 0\n",
    "for hand_tuple in unique_tuples(12):\n",
    "    if is_nice(hand_tuple):\n",
    "        total_combinations += combinations(hand_tuple)\n",
    "print(total_combinations / TOTAL)"
   ]
  },
  {
   "cell_type": "code",
   "execution_count": null,
   "metadata": {},
   "outputs": [],
   "source": []
  }
 ],
 "metadata": {
  "kernelspec": {
   "display_name": "Python 3",
   "language": "python",
   "name": "python3"
  },
  "language_info": {
   "codemirror_mode": {
    "name": "ipython",
    "version": 3
   },
   "file_extension": ".py",
   "mimetype": "text/x-python",
   "name": "python",
   "nbconvert_exporter": "python",
   "pygments_lexer": "ipython3",
   "version": "3.9.12"
  }
 },
 "nbformat": 4,
 "nbformat_minor": 4
}
