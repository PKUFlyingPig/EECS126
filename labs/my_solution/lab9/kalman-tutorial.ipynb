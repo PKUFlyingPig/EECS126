{
 "cells": [
  {
   "cell_type": "markdown",
   "metadata": {},
   "source": [
    "# Static Example"
   ]
  },
  {
   "cell_type": "code",
   "execution_count": 2,
   "metadata": {},
   "outputs": [],
   "source": [
    "import numpy as np"
   ]
  },
  {
   "cell_type": "code",
   "execution_count": 9,
   "metadata": {},
   "outputs": [],
   "source": [
    "true_value = 1011\n",
    "def kalman(init_guess, steps=10):\n",
    "    def predict(cur_state):\n",
    "        return cur_state\n",
    "    def measure():\n",
    "        return true_value + np.random.normal(0, 10)\n",
    "\n",
    "    cur_state = init_guess\n",
    "    guesses = [cur_state]\n",
    "    for i in range(steps):\n",
    "        pred = predict(cur_state)\n",
    "        measurement = measure()\n",
    "        # update\n",
    "        cur_state = pred + (measurement - pred) / (i + 1)\n",
    "        guesses.append(cur_state)\n",
    "    return cur_state, guesses\n"
   ]
  },
  {
   "cell_type": "code",
   "execution_count": 12,
   "metadata": {},
   "outputs": [
    {
     "name": "stdout",
     "output_type": "stream",
     "text": [
      "1006.1128897518491\n",
      "[1000, 993.4322947957157, 1002.6458705405574, 1000.2657591008714, 1001.8927275814206, 1004.4990230369219, 1004.1894843821538, 1005.280198495964, 1005.8661384344992, 1005.1687541602905, 1006.1128897518491]\n"
     ]
    }
   ],
   "source": [
    "state, guesses = kalman(1000, 10)\n",
    "print(state)\n",
    "print(guesses)"
   ]
  },
  {
   "cell_type": "code",
   "execution_count": null,
   "metadata": {},
   "outputs": [],
   "source": []
  }
 ],
 "metadata": {
  "interpreter": {
   "hash": "b0fa6594d8f4cbf19f97940f81e996739fb7646882a419484c72d19e05852a7e"
  },
  "kernelspec": {
   "display_name": "Python 3.9.13 64-bit",
   "language": "python",
   "name": "python3"
  },
  "language_info": {
   "codemirror_mode": {
    "name": "ipython",
    "version": 3
   },
   "file_extension": ".py",
   "mimetype": "text/x-python",
   "name": "python",
   "nbconvert_exporter": "python",
   "pygments_lexer": "ipython3",
   "version": "3.9.13"
  },
  "orig_nbformat": 4
 },
 "nbformat": 4,
 "nbformat_minor": 2
}
