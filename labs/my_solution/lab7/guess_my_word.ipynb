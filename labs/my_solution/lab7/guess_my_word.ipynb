{
 "cells": [
  {
   "cell_type": "markdown",
   "metadata": {},
   "source": [
    "# Guess My Word\n",
    "\n",
    "#### Authors:\n",
    "v1.0 (Spring 2020) William Gan, Kannan Ramchandran"
   ]
  },
  {
   "cell_type": "markdown",
   "metadata": {},
   "source": [
    "## Introduction\n",
    "\n",
    "In Guess My Word http://hryanjones.com/guess-my-word/, you make guesses at a secret word and the computer tells you if it's before or after. Being bad at it, Efe wants to write a program to solve it. In this lab, you'll explore a couple ideas he has and help him write the program."
   ]
  },
  {
   "cell_type": "code",
   "execution_count": null,
   "metadata": {},
   "outputs": [],
   "source": [
    "import matplotlib.pyplot as plt\n",
    "import numpy as np"
   ]
  },
  {
   "cell_type": "markdown",
   "metadata": {},
   "source": [
    "## Modeling the Game\n",
    "\n",
    "Suppose we have obtained a list of the words used in the game. Each word has a frequency representing relatively how often it appears in the English language. Suppose the secret word is chosen proportionally to this frequency. The code in the cells below simulate the game. A couple things to note:\n",
    "\n",
    "- The frequency is not a probability i.e. it is unnormalized.\n",
    "- In this version of the game, we're assuming guesses come from the list of possible words used.\n",
    "- We're also assuming that you aren't told the secret word if you guess it. You have to deduce it yourself."
   ]
  },
  {
   "cell_type": "code",
   "execution_count": null,
   "metadata": {},
   "outputs": [],
   "source": [
    "from words import WORD_FREQ"
   ]
  },
  {
   "cell_type": "code",
   "execution_count": null,
   "metadata": {},
   "outputs": [],
   "source": [
    "type(WORD_FREQ)"
   ]
  },
  {
   "cell_type": "code",
   "execution_count": null,
   "metadata": {},
   "outputs": [],
   "source": [
    "total_freq = sum(WORD_FREQ.values())\n",
    "sorted_words = sorted(list(WORD_FREQ))\n",
    "sorted_word_freqs = np.array([WORD_FREQ[w] for w in sorted_words])\n",
    "cum_freqs = np.cumsum(sorted_word_freqs)"
   ]
  },
  {
   "cell_type": "code",
   "execution_count": null,
   "metadata": {},
   "outputs": [],
   "source": [
    "print(f'Total frequency: {total_freq}')\n",
    "print(f'First 10 words sorted: {sorted_words[:10]}')\n",
    "print(f'Frequencies associated with these words: {sorted_word_freqs[:10]}')\n",
    "print(f'Cumulative freqs associated with these words: {cum_freqs[:10]}')"
   ]
  },
  {
   "cell_type": "markdown",
   "metadata": {},
   "source": [
    "The following function will use binary search to find the word associated with an idx, which should be from 0 to total_freq-1. For example, `binary_search_word_generation(126)` will return the 3rd word, \"across\"."
   ]
  },
  {
   "cell_type": "code",
   "execution_count": null,
   "metadata": {},
   "outputs": [],
   "source": [
    "def binary_search_word_generation(idx):\n",
    "    i, j = 0, len(sorted_words) - 1\n",
    "    while i < j:\n",
    "        mid = (i + j) // 2\n",
    "        if cum_freqs[mid] > idx:\n",
    "            j = mid\n",
    "        else:\n",
    "            i = mid + 1\n",
    "    return i"
   ]
  },
  {
   "cell_type": "markdown",
   "metadata": {},
   "source": [
    "**In the following cell, implement `generate_secret_word` using `binary_search_word_generation`.**"
   ]
  },
  {
   "cell_type": "code",
   "execution_count": null,
   "metadata": {},
   "outputs": [],
   "source": [
    "def generate_secret_word():\n",
    "    # BEGIN YOUR SOLUTION\n",
    "    pass\n",
    "    # END YOUR SOLUTION"
   ]
  },
  {
   "cell_type": "markdown",
   "metadata": {},
   "source": [
    "This cell creates a game by generating a secret word and returning `guess_function`. `guess_function` returns True if the guess is lexicographically \"less than\" the secret word."
   ]
  },
  {
   "cell_type": "code",
   "execution_count": null,
   "metadata": {},
   "outputs": [],
   "source": [
    "def create_game(secret_word):\n",
    "    def guess_function(guess):\n",
    "        assert guess in WORD_FREQ\n",
    "        return guess < secret_word\n",
    "    return guess_function"
   ]
  },
  {
   "cell_type": "markdown",
   "metadata": {},
   "source": [
    "## Binary Search Idea\n",
    "\n",
    "The first idea is to ignore the frequencies and binary search on the correct word. In the cell below, `binary_search_game` receives a `guess_function` which was created by a call to `create_game`. Your code should use this `guess_function` to deduce what the secret word was, as well as keep track of how many guesses it took. **In the cell below, write code that returns the deduced secret word and number of guesses required**.  \n",
    "\n",
    "*Hint: If you want help implementing binary search, you could model it off of `binary_search_word_generation`.*"
   ]
  },
  {
   "cell_type": "code",
   "execution_count": null,
   "metadata": {},
   "outputs": [],
   "source": [
    "def binary_search_game(guess_function):\n",
    "    guesses = 0\n",
    "    deduced_word = None\n",
    "    # BEGIN YOUR SOLUTION\n",
    "    \n",
    "    # END YOUR SOLUTION\n",
    "    return deduced_word, guesses"
   ]
  },
  {
   "cell_type": "markdown",
   "metadata": {},
   "source": [
    "Use the following function to test your code. **While your implementation may not get the exact same number of guesses, it should take 9 or 10 guesses**. **It should also be deducing the correct word**."
   ]
  },
  {
   "cell_type": "code",
   "execution_count": null,
   "metadata": {},
   "outputs": [],
   "source": [
    "def test_binary_search_game():\n",
    "    '''Sanity checks for binary_search_game.'''\n",
    "    words = ['find', 'time', 'great', 'anyone', 'lying']\n",
    "    print([binary_search_game(create_game(w)) for w in words])"
   ]
  },
  {
   "cell_type": "code",
   "execution_count": null,
   "metadata": {},
   "outputs": [],
   "source": [
    "# Staff solution gets [('find', 10), ('time', 10), ('great', 10), ('anyone', 10), ('lying', 9)].\n",
    "test_binary_search_game()"
   ]
  },
  {
   "cell_type": "markdown",
   "metadata": {},
   "source": [
    "## Huffman Coding Idea\n",
    "\n",
    "The second idea uses the frequencies and is similar to [Huffman Coding](https://en.wikipedia.org/wiki/Huffman_coding).\n",
    "\n",
    "It works as follows:\n",
    "\n",
    "1. Sort all the words in alphabetical order in a list.\n",
    "2. Go through all consecutive pairs of words. For each pair, consider the sum of the two frequencies. Find the pair whose sum is minimal.\n",
    "3. Combine those two words into a node, and make the frequency their sum. The node's left child will be the first word in the pair and the node's right child will be the second word in the pair.\n",
    "4. Replace the two words with the node in the list.\n",
    "5. Go back to step 1, and now treating nodes and words as the same, repeat until there's only one node left.\n",
    "6. This node is the root of the Huffman Tree.\n",
    "\n",
    "When creating new nodes, we also need to set `rightmost_word`. It'll be useful when we try to guess the secret word, which works as follows.\n",
    "\n",
    "1. Set the current node to the root.\n",
    "2. Guess the `rightmost_word` of the current node's left child.\n",
    "3. If this is before the secret word, than the secret word must be in the right child. Otherwise, it's in the left child.\n",
    "4. Go back to step 2. Repeat until we've reached a leaf in this tree."
   ]
  },
  {
   "cell_type": "code",
   "execution_count": null,
   "metadata": {},
   "outputs": [],
   "source": [
    "class HuffmanNode:\n",
    "    def __init__(self, freq, word=None):\n",
    "        # The total frequency of the words in our own subtree.\n",
    "        self.freq = freq\n",
    "        # Only non-null in leaf nodes.\n",
    "        self.word = word\n",
    "        # The rightmost word in our own subtree.\n",
    "        self.rightmost_word = word\n",
    "        # Our children nodes\n",
    "        self.left_subtree = None\n",
    "        self.right_subtree = None"
   ]
  },
  {
   "cell_type": "markdown",
   "metadata": {},
   "source": [
    "**In the following cell, fill code to generate the HuffmanTree.**"
   ]
  },
  {
   "cell_type": "code",
   "execution_count": null,
   "metadata": {},
   "outputs": [],
   "source": [
    "def build_huffman_tree():\n",
    "    sorted_words = sorted(list(WORD_FREQ))\n",
    "    nodes = [HuffmanNode(WORD_FREQ[w], w) for w in sorted_words]\n",
    "    # Will need to combine two nodes len(WORD_FREQ) - 1 times.\n",
    "    for i in range(len(WORD_FREQ) - 1):\n",
    "        min_node_idx = None\n",
    "        min_freq = None\n",
    "        # Choose the consecutive pair of nodes with smallest frequency sum to\n",
    "        # combine.\n",
    "        for j in range(0, len(nodes) - 1):\n",
    "            freq = nodes[j].freq + nodes[j+1].freq\n",
    "            if min_freq is None or freq < min_freq:\n",
    "                min_node_idx = j\n",
    "                min_freq = freq\n",
    "        new_node = HuffmanNode(min_freq)\n",
    "        # Setup the new node and then replace the current two nodes in the list\n",
    "        # with the new node.\n",
    "        # BEGIN YOUR SOLUTION\n",
    "        \n",
    "        # END YOUR SOLUTION\n",
    "    return nodes[0]"
   ]
  },
  {
   "cell_type": "markdown",
   "metadata": {},
   "source": [
    "**In the cell below, write code that plays a game with the HuffmanTree and returns the deduced word and number of guesses.**\n"
   ]
  },
  {
   "cell_type": "code",
   "execution_count": null,
   "metadata": {},
   "outputs": [],
   "source": [
    "root = build_huffman_tree()\n",
    "\n",
    "def huffman_game(guess_function):\n",
    "    guesses = 0\n",
    "    deduced_word = None\n",
    "    # BEGIN YOUR SOLUTION\n",
    "\n",
    "    # END YOUR SOLUTION\n",
    "    return deduced_word, guesses"
   ]
  },
  {
   "cell_type": "markdown",
   "metadata": {},
   "source": [
    "Use the following function to test your code. **While your implementation may not get the exact same number of guesses, it should be deducing the correct word**."
   ]
  },
  {
   "cell_type": "code",
   "execution_count": null,
   "metadata": {},
   "outputs": [],
   "source": [
    "def test_huffman_game():\n",
    "    '''Sanity checks for huffman_game.\n",
    "    \n",
    "    The number of guesses may not be less than binary search for particular\n",
    "    examples.\n",
    "    '''\n",
    "    words = ['find', 'time', 'great', 'anyone', 'lying']\n",
    "    print([huffman_game(create_game(w)) for w in words])"
   ]
  },
  {
   "cell_type": "code",
   "execution_count": null,
   "metadata": {},
   "outputs": [],
   "source": [
    "# Staff solution gets [('find', 8), ('time', 6), ('great', 8), ('anyone', 8), ('lying', 10)].\n",
    "test_huffman_game()"
   ]
  },
  {
   "cell_type": "markdown",
   "metadata": {},
   "source": [
    "## Analysis\n",
    "\n",
    "In this section, we'll try to compare the average number of guesses required by each of the two methods and connect it to entropy."
   ]
  },
  {
   "cell_type": "markdown",
   "metadata": {},
   "source": [
    "**In the following cell, compute the entropy of the distribution for the secret word.**\n",
    "\n",
    "*Note: By default, np.log uses the natural log.*"
   ]
  },
  {
   "cell_type": "code",
   "execution_count": null,
   "metadata": {},
   "outputs": [],
   "source": [
    "entropy = None\n",
    "## BEGIN YOUR SOLUTION\n",
    "\n",
    "## END YOUR SOLUTION"
   ]
  },
  {
   "cell_type": "markdown",
   "metadata": {},
   "source": [
    "We'll use sampling to estimate the mean number of guesses for each method. In particular, if $X_i$ is the number of guesses required for trial $i$, we can approximate\n",
    "$$\n",
    "E[X] \\approx \\frac{1}{n} \\sum_{i=1}^n X_i\n",
    "$$"
   ]
  },
  {
   "cell_type": "code",
   "execution_count": null,
   "metadata": {},
   "outputs": [],
   "source": [
    "SAMPLES = 100000\n",
    "binary_search = np.zeros(SAMPLES)\n",
    "huffman = np.zeros(SAMPLES)\n",
    "for i in range(SAMPLES):\n",
    "    secret_word = generate_secret_word()\n",
    "    _, binary_search[i] = binary_search_game(create_game(secret_word))\n",
    "    _, huffman[i] = huffman_game(create_game(secret_word))"
   ]
  },
  {
   "cell_type": "code",
   "execution_count": null,
   "metadata": {},
   "outputs": [],
   "source": [
    "bins = np.arange(4, 15)\n",
    "plt.hist(binary_search, bins, alpha=0.5, label='Binary Search')\n",
    "plt.hist(huffman, bins, alpha=0.5, label='Huffman')\n",
    "plt.xlabel('Number of Guesses')\n",
    "plt.legend()\n",
    "plt.title('Guess My Word')"
   ]
  },
  {
   "cell_type": "markdown",
   "metadata": {},
   "source": [
    "Let's create confidence intervals for $E[X]$. We know that $\\frac{1}{n} \\sum_{i=1}^n X_i \\sim \\mathcal{N}(E[X], \\frac{var(X)}{n})$ by the CLT. **In the following cell, calculate `sigma_n` and `mu`**. We can use the sample mean to estimate $E[X]$ and sample variance to estimate $var(X)$."
   ]
  },
  {
   "cell_type": "code",
   "execution_count": null,
   "metadata": {},
   "outputs": [],
   "source": [
    "def confidence_interval_95(samples):\n",
    "    mu, sigma_n = 0, 0\n",
    "    # BEGIN YOUR SOLUTION\n",
    "    \n",
    "    # END YOUR SOLUTION\n",
    "    return f'{mu:.3f} +- {1.96 * sigma_n:.3f}'"
   ]
  },
  {
   "cell_type": "code",
   "execution_count": null,
   "metadata": {},
   "outputs": [],
   "source": [
    "print(f'Binary Search: {confidence_interval_95(binary_search)}')\n",
    "print(f'Huffman: {confidence_interval_95(huffman)}')"
   ]
  },
  {
   "cell_type": "code",
   "execution_count": null,
   "metadata": {},
   "outputs": [],
   "source": []
  }
 ],
 "metadata": {
  "kernelspec": {
   "display_name": "Python 3",
   "language": "python",
   "name": "python3"
  },
  "language_info": {
   "codemirror_mode": {
    "name": "ipython",
    "version": 3
   },
   "file_extension": ".py",
   "mimetype": "text/x-python",
   "name": "python",
   "nbconvert_exporter": "python",
   "pygments_lexer": "ipython3",
   "version": "3.7.4"
  }
 },
 "nbformat": 4,
 "nbformat_minor": 4
}
