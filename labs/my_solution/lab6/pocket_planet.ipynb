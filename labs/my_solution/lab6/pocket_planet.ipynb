{
 "cells": [
  {
   "cell_type": "markdown",
   "metadata": {},
   "source": [
    "# Pocket Planet\n",
    "\n",
    "\n",
    "#### Authors:\n",
    "v1.0 (2020 Spring) Alexander Khazatsky, William Gan, Kannan Ramchandran\n",
    "\n",
    "## Introduction\n",
    "\n",
    "In this lab, we'll be studying Interactive Particle Systems (IPS). IPS is a good model for understanding the behaviour of agents in a world and can be viewed as an extension of Markov chains. In a Markov chain, the key is the Markov property, which tells us that the next time step only depends on our current state. This is true in an IPS model as well.\n",
    "\n",
    "To be more concrete, in this lab, we'll try to understand how biological evolution is affected by things such as the rate of mutations, the environment, etc. To do so, we'll setup a world and treat organisms as particles. At each step, these organisms may reproduce, compete each with other, etc.  \n",
    "\n",
    "<!-- ![cover%20photo.png](attachment:cover%20photo.png) -->"
   ]
  },
  {
   "cell_type": "code",
   "execution_count": null,
   "metadata": {},
   "outputs": [],
   "source": [
    "from pocket_planet_utils import *"
   ]
  },
  {
   "cell_type": "markdown",
   "metadata": {},
   "source": [
    "## Part 1: Perlin Noise\n",
    "\n",
    "Before, we setup our IPS model, however, first we'll create our world. But, how do we generate elevations that look realistic? A lot of research has been poured into this, and one method which has been successful is Perlin noise [(Wikipedia)](https://en.wikipedia.org/wiki/Perlin_noise) [(Blog)](https://flafla2.github.io/2014/08/09/perlinnoise.html). It is used in both animated movies and Minecraft, and in this portion, we'll see how to implement it. Below you will find perlin noise in 1, 2, and 3 dimensions.\n",
    "\n",
    "<div>\n",
    "  <table>\n",
    "    <tr>\n",
    "      <td>\n",
    "        <img src=\"images/perlin_noise.png\", width=875px>\n",
    "      </td>\n",
    "    </tr>\n",
    " </table>\n",
    "</div>\n"
   ]
  },
  {
   "cell_type": "markdown",
   "metadata": {},
   "source": [
    "We will design our world to be a 100 pixel by 100 pixel square with 7 terrains: ocean, shallows, sand, dirt, inland, mountain, and snow. Each terrain will corresponds to an elevation range, and so to generate our world, we just need to generate 2D perlin noise to use for our elevations. The following pictures show what the elevations and worlds should end up looking like.\n",
    "\n",
    "<div>\n",
    "  <table>\n",
    "    <tr>\n",
    "      <td>\n",
    "        <img src=\"images/elevations.png\">\n",
    "      </td>\n",
    "      <td>\n",
    "        <img src=\"images/uninhabited.png\">      \n",
    "      </td>\n",
    "    </tr>\n",
    "  </table>\n",
    "</div>"
   ]
  },
  {
   "cell_type": "markdown",
   "metadata": {},
   "source": [
    "Now, to generate the functions of each frequency, we create a $(l+1) \\times (l+1)$ array of unit gradient vectors (kind of like what is shown on the left), where $l$ is the maximum frequency (in the above picture, it is 128). Each square in this grid has 4 gradient vectors on the corner, as shown on the right.\n",
    "\n",
    "<div>\n",
    "  <table>\n",
    "    <tr>\n",
    "      <td>\n",
    "        <img src=\"images/perlin_gradients.png\">\n",
    "      </td>\n",
    "      <td>\n",
    "        <img src=\"images/perlin_grad_4.png\">\n",
    "      </td>\n",
    "    </tr>\n",
    " </table>\n",
    "</div>"
   ]
  },
  {
   "cell_type": "markdown",
   "metadata": {},
   "source": [
    "**Question 1a**. In the cell below, **generate n-dimensional gradient vectors with unit length**. Each gradient vector is computed by sampling from $\\mathcal{N}(0, I_n)$, and then normalizing it to be unit length."
   ]
  },
  {
   "cell_type": "code",
   "execution_count": null,
   "metadata": {},
   "outputs": [],
   "source": [
    "def generate_gradient(n):\n",
    "    # START YOUR MAGNIFICENT CODE HERE\n",
    "    gradient = None\n",
    "    # END YOUR MAGNIFICENT CODE HERE\n",
    "    return gradient"
   ]
  },
  {
   "cell_type": "markdown",
   "metadata": {},
   "source": [
    "**Question 1b**. In the cell below, **generate the array of gradients** for the 2D case as a NumPy array with shape $(l+1, l+1, 2)$."
   ]
  },
  {
   "cell_type": "code",
   "execution_count": null,
   "metadata": {},
   "outputs": [],
   "source": [
    "def generate_corner_gradients(l):\n",
    "    # START YOUR MAGNIFICENT CODE HERE\n",
    "    corners = None\n",
    "    # END YOUR MAGNIFICENT CODE HERE\n",
    "    return corners"
   ]
  },
  {
   "cell_type": "markdown",
   "metadata": {},
   "source": [
    "Now comes the interpolation part. For a general point in $[0, l] \\times [0, l]$, find which square it lies by looking at the floor and ceiling of its x and y coordinates. Then, fill in the code to compute the dot product of the gradient vector and \"delta\" vector for each of the 4 corners of the square it lies in. The \"delta\" vectors for a point in one of the $l \\times l$ squares is shown below.\n",
    "\n",
    "<div>\n",
    "  <table>\n",
    "    <tr>\n",
    "      <td>\n",
    "        <img src=\"images/perlin_dist_4.png\">\n",
    "      </td>\n",
    "    </tr>\n",
    " </table>\n",
    "</div>"
   ]
  },
  {
   "cell_type": "markdown",
   "metadata": {},
   "source": [
    "**Question 1c**. In the cell below, given the $(l+1) \\times (l+1)$ array of gradients and a point whose coordinates lie in $[0, l] \\times [0, l]$, fill in the code to **compute the 4 dot products** as a $2 \\times 2$ NumPy array. **Make sure your in your result, the [0,0] entry corresponds to the top left corner, the [1, 0] entry corresponds to the bottom left corner, etc.**"
   ]
  },
  {
   "cell_type": "code",
   "execution_count": null,
   "metadata": {},
   "outputs": [],
   "source": [
    "def compute_dot_products(gradients, x, y):\n",
    "    # START YOUR MAGNIFICENT CODE HERE\n",
    "    floor_x, floor_y = None, None # coordinates rounded down\n",
    "    ceil_x, ceil_y = None, None # coordinates rounded up\n",
    "    corner_coords = None # numpy array of corner coordinates with shape (2,2,2)\n",
    "    # END YOUR MAGNIFICENT CODE HERE\n",
    "    corner_gradients = gradients[floor_y: ceil_y+1, floor_x: ceil_x+1]\n",
    "    delta = np.array([x, y]) - corner_coords\n",
    "    return np.sum(corner_gradients * delta, axis=2)"
   ]
  },
  {
   "cell_type": "markdown",
   "metadata": {},
   "source": [
    "Now we want to interpolate a value at (x, y) given the values at the 4 corners. It turns out a nice function for doing this involves a degree-5 polynomial."
   ]
  },
  {
   "cell_type": "code",
   "execution_count": null,
   "metadata": {},
   "outputs": [],
   "source": [
    "def smooth_interp(t, a, b):\n",
    "    smooth_t = 6*t**5 - 15*t**4 + 10*t**3\n",
    "    return (1 - smooth_t) * a + smooth_t * b"
   ]
  },
  {
   "cell_type": "markdown",
   "metadata": {},
   "source": [
    "Bilinearly interpolate."
   ]
  },
  {
   "cell_type": "code",
   "execution_count": null,
   "metadata": {},
   "outputs": [],
   "source": [
    "def interpolate(dots, x, y):\n",
    "    dx = x - np.floor(x)\n",
    "    dy = y - np.floor(y)\n",
    "    interp1 = smooth_interp(dx, dots[0, 0], dots[0, 1])\n",
    "    interp2 = smooth_interp(dx, dots[1, 0], dots[1, 1])\n",
    "    interp = smooth_interp(dy, interp1, interp2)\n",
    "    return interp"
   ]
  },
  {
   "cell_type": "markdown",
   "metadata": {},
   "source": [
    "Now to put everything together, even though our array of gradients corresponds to a point in $[0, l] \\times [0, l]$, each pixel in our 100 x 100 square world will just correspond to a point $[0, 1] \\times [0, 1]$. However, we will still use the rest of the array as we will generate the higher frequency functions by mapping a point $x, y \\in [0, 1] \\times [0, 1]$ to $f \\cdot x, f \\cdot y \\in [0, l] \\times [0, l]$, where $f$ is the frequency."
   ]
  },
  {
   "cell_type": "code",
   "execution_count": null,
   "metadata": {},
   "outputs": [],
   "source": [
    "def generate_world(size=100, l=4):\n",
    "    grad = generate_corner_gradients(2 ** l + 1)\n",
    "    units = np.linspace(0, 1, size)\n",
    "    rescale_factor = (2 ** 0.5)\n",
    "    grid = np.zeros((size, size))\n",
    "    for i, x in enumerate(units):\n",
    "        for j, y in enumerate(units):\n",
    "            for log_f in range(l):\n",
    "                f = 2 ** log_f\n",
    "                amp = 1 / f\n",
    "                new_x = x * f\n",
    "                new_y = y * f\n",
    "                dots = compute_dot_products(grad, new_x, new_y)\n",
    "                val = interpolate(dots, new_x, new_y)\n",
    "                rescaled_val = val * rescale_factor\n",
    "                grid[j][i] += rescaled_val * amp\n",
    "    grid /= 2 - 2 ** (1 - l)        \n",
    "    return grid"
   ]
  },
  {
   "cell_type": "markdown",
   "metadata": {},
   "source": [
    "You may have to run this cell and the cell below several times to get the world you want."
   ]
  },
  {
   "cell_type": "code",
   "execution_count": null,
   "metadata": {},
   "outputs": [],
   "source": [
    "fig, ax = plt.subplots(1, 4, figsize=(20, 4))\n",
    "test_worlds = []\n",
    "fig.suptitle('2D Perlin Noise with Different l')\n",
    "for l in range(4):\n",
    "    world = generate_world(l=l+1)\n",
    "    test_worlds.append(world)\n",
    "    ax[l].set_title(f'l={l+1}')\n",
    "    im = ax[l].imshow(world)\n",
    "    fig.colorbar(im, ax=ax[l], fraction=0.046, pad=0.04)"
   ]
  },
  {
   "cell_type": "code",
   "execution_count": null,
   "metadata": {
    "scrolled": true
   },
   "outputs": [],
   "source": [
    "fig, ax = plt.subplots(1, 4, figsize=(16, 4))\n",
    "fig.suptitle('Uninhabited Worlds with Different l')\n",
    "for l in range(4):\n",
    "    uninhabited_world = get_uninhabited_world(test_worlds[l])\n",
    "    ax[l].set_title(f'l={l+1}')\n",
    "    im = ax[l].imshow(uninhabited_world)"
   ]
  },
  {
   "cell_type": "markdown",
   "metadata": {},
   "source": [
    "Use the knobs below to visualize worlds with defined height vectors for the enviorment types."
   ]
  },
  {
   "cell_type": "code",
   "execution_count": null,
   "metadata": {},
   "outputs": [],
   "source": [
    "grid = generate_world()\n",
    "\n",
    "@interact(ocean=h_o,shallows=h,beach=h,dirt=h,inland=h,mountain=h)\n",
    "def toggle_ground_heights(ocean=0.01,\n",
    "                          shallows=0.075,\n",
    "                          beach=0.15,\n",
    "                          dirt=0.2,\n",
    "                          inland=0.3,\n",
    "                          mountain=0.4,):\n",
    "    heights = np.array([ocean, shallows, beach, dirt, inland, mountain, 1])\n",
    "    visualize_height_values(heights, grid)"
   ]
  },
  {
   "cell_type": "markdown",
   "metadata": {},
   "source": [
    "## Part 2: Bringing Particles To Life\n",
    "\n",
    "Now that we have our planet, we can set up our IPS system. The idea is our particles will be able to move around on our 100 x 100 grid, but first, we need to define the state of a particle. For this lab, we'll assume all organisms are trees. Each tree has DNA, which is a convex combination of $k$ archetypes, where $k$ is the number of inhabitable environment types on our planet. Note that this means the elements of our DNA vector must be nonnegative and sum to 1. You will find the inhabitable environment types, and their corresponding ideal tree below:\n",
    "\n",
    "\n",
    "<div>\n",
    "  <table>\n",
    "    <tr>\n",
    "      <td>\n",
    "        <img src=\"images/plant_land_table.png\", width=400px>    \n",
    "      </td>\n",
    "    </tr>\n",
    "  </table>\n",
    "</div>"
   ]
  },
  {
   "cell_type": "markdown",
   "metadata": {},
   "source": [
    "So, for example, a DNA of $[0.05, 0.05, 0.05, 0.8, 0.05]$ will be a tree well suited to live in the Inland environment.\n",
    "\n",
    "- Initially, a tree's DNA will be generated by sampling a vector from $\\lvert \\mathcal{N}(0, I_k) \\rvert$ , and then dividing it by its sum.\n",
    "- Each time step, a tree may have offspring (seeds) whose DNA will be slightly mutated. The offspring's DNA will be generated by sampling from $\\lvert \\mathcal{N}(\\text{parent DNA}, \\sigma_{\\text{mutation}}^2) \\rvert$, and then dividing this vector by its sum. So the current DNA, say $[0.05, 0.05, 0.05, 0.8, 0.05]$ again, will be used as the mean for the multivariate normal distribution, and then after taking the absolute value + renormalizing, we may end up with something like $[0.03, 0.06, 0.06, 0.78, 0.07]$."
   ]
  },
  {
   "cell_type": "markdown",
   "metadata": {},
   "source": [
    "**Question 2a**. In the following cell, fill out the functions for generating the initial random DNA as well as generating offspring."
   ]
  },
  {
   "cell_type": "code",
   "execution_count": null,
   "metadata": {},
   "outputs": [],
   "source": [
    "class Tree(AbstractTree):\n",
    "\n",
    "    def initialize_random_dna(self, k):\n",
    "        # START YOUR MAGNIFICENT CODE HERE\n",
    "        dna = None\n",
    "        # END YOUR MAGNIFICENT CODE HERE\n",
    "        self.dna = dna\n",
    "    \n",
    "    def generate_offspring(self, mutation_var):\n",
    "        # START YOUR MAGNIFICENT CODE HERE\n",
    "        offspring_dna = None\n",
    "        # END YOUR MAGNIFICENT CODE HERE\n",
    "        return Tree(dna=offspring_dna)  "
   ]
  },
  {
   "cell_type": "markdown",
   "metadata": {},
   "source": [
    "Visualize DNA."
   ]
  },
  {
   "cell_type": "code",
   "execution_count": null,
   "metadata": {},
   "outputs": [],
   "source": [
    "@interact(x_1=r,x_2=r,x_3=r,x_4=r,x_5=r)\n",
    "def f(x_1,x_2,x_3,x_4,x_5):\n",
    "    unnormalized_DNA = np.array([x_1,x_2,x_3,x_4,x_5])\n",
    "    DNA = unnormalized_DNA / np.sum(unnormalized_DNA)\n",
    "    tree = Tree(DNA)\n",
    "    visualize_dna(tree)"
   ]
  },
  {
   "cell_type": "markdown",
   "metadata": {},
   "source": [
    "Visualize mutations over multiple generations of a tree's DNA. Feel free to play with the variance and see how things change."
   ]
  },
  {
   "cell_type": "code",
   "execution_count": null,
   "metadata": {},
   "outputs": [],
   "source": [
    "tree = Tree()\n",
    "var = 0.001\n",
    "for i in range(20):\n",
    "    clear_output(wait=True)\n",
    "    visualize_dna(tree)\n",
    "    tree = tree.generate_offspring(var)"
   ]
  },
  {
   "cell_type": "markdown",
   "metadata": {},
   "source": [
    "## Part 3: Defining The Mechanics\n",
    "\n",
    "Now that we have our particles (AKA our trees), we can define the mechanics that govern them.\n",
    "\n",
    "- Our world will initially be empty, but at each time step, a tree can magically appear in a square with probability `self.life_prob`. This will be done in `simulate_life_creation`.\n",
    "- Given a tree is currently in a square, it survives each time step with some probability (`age_tree`).\n",
    "- Given it survives, it can then also generate a number of offspring ~ $Binom(self.max\\_seeds, fitness)$, handled in (`generate_offspring`).\n",
    "- Finally, if a bunch of offspring (seeds) are on a square in our world, they will need to participate in a stochastic competition for the square. Because we want trees with higher fitnesses to have a higher probability of winning, we will sample the victor from the Boltzmann distribution. Implement the Boltzmann distribution as follows:\n",
    "  - $energy[i] = exp(self.comp\\_constant * fitness[i])$\n",
    "  - $P[winner=i] := \\frac{energy[i]}{sum(energy)}$"
   ]
  },
  {
   "cell_type": "markdown",
   "metadata": {},
   "source": [
    "**Question 3a**. Fill out the following class."
   ]
  },
  {
   "cell_type": "code",
   "execution_count": null,
   "metadata": {},
   "outputs": [],
   "source": [
    "class Square(AbstractSquare):\n",
    "    \n",
    "    def simulate_life_creation(self):\n",
    "        # START YOUR MAGNIFICENT CODE HERE\n",
    "        p = None\n",
    "        # END YOUR MAGNIFICENT CODE HERE\n",
    "                \n",
    "        if p: self.plant_seed(Tree())\n",
    "            \n",
    "    def age_tree(self):\n",
    "        if not self.contains_tree():\n",
    "            return\n",
    "        survival_prob = self.tree.calc_fitness(self.env_type)\n",
    "        \n",
    "        # START YOUR MAGNIFICENT CODE HERE\n",
    "        p = None\n",
    "        # END YOUR MAGNIFICENT CODE HERE\n",
    "        \n",
    "        if p: self.terminate_tree()\n",
    "            \n",
    "\n",
    "    def generate_offspring(self):\n",
    "        if not self.contains_tree():\n",
    "            return []\n",
    "        fitness = self.tree.calc_fitness(self.env_type)\n",
    "        \n",
    "        # START YOUR MAGNIFICENT CODE HERE\n",
    "        num_offspring = None\n",
    "        # END YOUR MAGNIFICENT CODE HERE\n",
    "        \n",
    "        offspring = [self.tree.generate_offspring(self.mutation_var)\n",
    "                    for i in range(num_offspring)]\n",
    "        return offspring\n",
    "    \n",
    "    \n",
    "    def sample_boltzmann_distribution(self, fitness, return_dist=False):\n",
    "        # START YOUR MAGNIFICENT CODE HERE\n",
    "        probabilities = None\n",
    "        # END YOUR MAGNIFICENT CODE HERE\n",
    "\n",
    "        if return_dist:\n",
    "            return probabilities\n",
    "        winner_index = random.choices(np.arange(0, len(fitness)), probabilities)[0]\n",
    "        return winner_index"
   ]
  },
  {
   "cell_type": "markdown",
   "metadata": {},
   "source": [
    "**Question 3b**. We can now visualize evolution for a single square in our world. Based on your investigations, answer the following questions:\n",
    "\n",
    "1. What would you guess is the environment type of the square?\n",
    "2. How does mutation variance affect convergence?\n",
    "3. In a rapidly changing environment, would we want a high or low mutation rate? What about in a predictable environment?\n",
    "4. How does the competition constant affect convergence?"
   ]
  },
  {
   "cell_type": "markdown",
   "metadata": {},
   "source": [
    "ANSWERS HERE"
   ]
  },
  {
   "cell_type": "code",
   "execution_count": null,
   "metadata": {},
   "outputs": [],
   "source": [
    "var = 0.01\n",
    "comp_constant = 10    \n",
    "    \n",
    "square = create_secret_square(var, comp_constant, Square)\n",
    "\n",
    "for i in range(50):\n",
    "    plt.pause(0.1)\n",
    "    clear_output(wait=True)\n",
    "    psuedo_env_step(square, Tree)"
   ]
  },
  {
   "cell_type": "markdown",
   "metadata": {},
   "source": [
    "### Visualizing Competitions\n",
    "\n",
    "Next we will visualize a competition amongst multiple trees for a single square, and study the effects the competition constant has on the outcome.\n",
    "\n",
    "**Question 3c.** Based off the visualizer below, what effect does the competition constant have on the entropy of the distribution?\n",
    "\n",
    "*Fun Fact: This concept is the key to a state-of-the-art Reinforcement Learning algorithm called Soft Actor Critic, which uses this property to address something called the exploration-exploitation tradeoff."
   ]
  },
  {
   "cell_type": "markdown",
   "metadata": {},
   "source": [
    "ANSWERS HERE"
   ]
  },
  {
   "cell_type": "code",
   "execution_count": null,
   "metadata": {},
   "outputs": [],
   "source": [
    "@interact(const=(0, 10, 0.5))\n",
    "def visualize_fitness_competition(const=0):\n",
    "    square = create_secret_square(var, const, Square)\n",
    "    dist = square.sample_boltzmann_distribution(np.array(example_fitness),\n",
    "                                               return_dist=True)\n",
    "    \n",
    "    visualize_competition(dist, entropy(dist))"
   ]
  },
  {
   "cell_type": "markdown",
   "metadata": {},
   "source": [
    "## Q4 Bringing It All Together\n",
    "\n",
    "You're almost done! All that's left is to make our particles be able to move across squares.\n",
    "\n",
    "- In `simulate_movement`, we want to be able to move a particle from position i, j.  To do this, we'll sample new_coord ~ N([i,j], var), then clip to [min_val, max_val], and finally round to the nearest integer.\n",
    "- In `spread_seeds`, we'll get new positions for a seeds at (i, j) by setting the variance for `simulate_movement`. If a square is an ocean, set variance to be self.waves_var. Otherwise, set it to be self.wind_var."
   ]
  },
  {
   "cell_type": "code",
   "execution_count": null,
   "metadata": {},
   "outputs": [],
   "source": [
    "class World(AbstractWorld):\n",
    "    def simulate_movement(self, i, j, var):\n",
    "        coord = np.array([i, j])\n",
    "        min_val, max_val = 0, self.dim - 1\n",
    "        \n",
    "        # START YOUR MAGNIFICENT CODE HERE\n",
    "        new_coord = [None, None]\n",
    "        # END YOUR MAGNIFICENT CODE HERE\n",
    "        #Note: make sure the elements of new_coord are integers\n",
    "        \n",
    "        return new_coord[0], new_coord[1]\n",
    "    \n",
    "    def spread_seeds(self, i, j):\n",
    "        square = self.world[i][j]\n",
    "        trees = square.get_seeds()\n",
    "        \n",
    "        if square.is_ocean():\n",
    "            var = # YOUR MAGNIFICENT CODE HERE\n",
    "        else:\n",
    "            var = # YOUR MAGNIFICENT CODE HERE\n",
    "            \n",
    "        for tree in trees:\n",
    "            x, y = self.simulate_movement(i, j, var)\n",
    "            self.world[x][y].plant_seed(tree)"
   ]
  },
  {
   "cell_type": "markdown",
   "metadata": {},
   "source": [
    "## Congratulations!\n",
    "\n",
    "You're free! We hope you've enjoyed this evolutionary journey. We highly recommend tinkering with the hyperparameters. After putting in all this work, you might as well get some fun out of it. If you find any cool properties, feel free to write about it below!"
   ]
  },
  {
   "cell_type": "code",
   "execution_count": null,
   "metadata": {},
   "outputs": [],
   "source": [
    "world = World(generate_world,\n",
    "              Square,\n",
    "              dim=100,\n",
    "              mutation_var=0.01,\n",
    "              comp_constant=100,\n",
    "              wind_var=2,\n",
    "              waves_var=5\n",
    "              max_seeds=5)\n",
    "\n",
    "for i in range(100):\n",
    "    world.env_step()"
   ]
  },
  {
   "cell_type": "markdown",
   "metadata": {},
   "source": [
    "**Question 4a**. When life initially starts to spread accross the map, the fitness curve is extremely volatile, but eventually it smooths out. Why is this?"
   ]
  },
  {
   "cell_type": "markdown",
   "metadata": {},
   "source": [
    "ANSWERS HERE"
   ]
  },
  {
   "cell_type": "markdown",
   "metadata": {},
   "source": [
    "**Question 4b**. You might notice that the Coverage progression curve tends to match a sigmoid curve. Give a theory as to why this might be."
   ]
  },
  {
   "cell_type": "markdown",
   "metadata": {},
   "source": [
    "ANSWERS HERE"
   ]
  },
  {
   "cell_type": "markdown",
   "metadata": {},
   "source": [
    "## References\n",
    "\n",
    "1. https://en.wikipedia.org/wiki/Perlin_noise\n",
    "1. https://flafla2.github.io/2014/08/09/perlinnoise.html\n",
    "1. https://gamedev.stackexchange.com/questions/23625/how-do-you-generate-tileable-perlin-noise"
   ]
  },
  {
   "cell_type": "code",
   "execution_count": null,
   "metadata": {},
   "outputs": [],
   "source": []
  }
 ],
 "metadata": {
  "anaconda-cloud": {},
  "kernelspec": {
   "display_name": "Python 3",
   "language": "python",
   "name": "python3"
  },
  "language_info": {
   "codemirror_mode": {
    "name": "ipython",
    "version": 3
   },
   "file_extension": ".py",
   "mimetype": "text/x-python",
   "name": "python",
   "nbconvert_exporter": "python",
   "pygments_lexer": "ipython3",
   "version": "3.7.3"
  }
 },
 "nbformat": 4,
 "nbformat_minor": 4
}
