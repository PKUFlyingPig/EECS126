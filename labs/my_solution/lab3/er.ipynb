{
 "cells": [
  {
   "cell_type": "markdown",
   "metadata": {},
   "source": [
    "# Random Graphs: The Erdős–Rényi and Stochastic Block Models\n",
    "\n",
    "#### Authors:\n",
    "\n",
    "v1.0 (2014 Fall) Rishi Sharma, Sahaana Suri, Kangwook Lee, Kannan Ramchandran<br />\n",
    "v1.1 (2015 Fall) Kabir Chandrasekher, Max Kanwal, Kangwook Lee, Kannan Ramchandran<br />\n",
    "v1.2 (2016 Fall) Kabir Chandrasekher, Tony Duan, David Marn, Ashvin Nair, Kangwook Lee, Kannan Ramchandran <br />\n",
    "v1.3 (2018 Spring) Tavor Baharav, Kaylee Burns, Gary Cheng, Sinho Chewi, Hemang Jangle, William Gan, Alvin Kao, Chen Meng, Vrettos Muolos, Kanaad Parvate, Ray Ramamurti <br />\n",
    "v1.4 (2018 Fall) Raghav Anand, Kurtland Chua, Payam Delgosha, William Gan, Avishek Ghosh, Justin Hong, Nikunj Jain, Katie Kang, Adarsh Karnati, Eric Liu, Kanaad Parvate, Ray Ramamurti, Amay Saxena, Kannan Ramchandran, Abhay Parekh <br />"
   ]
  },
  {
   "cell_type": "markdown",
   "metadata": {},
   "source": [
    "## Question 1 -- The Erdős–Rényi Model"
   ]
  },
  {
   "cell_type": "markdown",
   "metadata": {},
   "source": [
    "To begin the lab, we explore random graphs, introduced by [Erdős and Rényi](http://www.renyi.hu/~p_erdos/1959-11.pdf).  -- $G(n,p)$ has $n$ nodes and probability $p$ of an edge between each node.\n",
    "\n",
    "You will need to install [NetworkX](http://networkx.github.io/documentation/latest/install.html) in order to complete this lab. If you have difficulty installing it, you can follow a StackOverflow thread available [here](http://stackoverflow.com/questions/9836909/easy-install-networkx), or simply download NetworkX from the previous link and pip install it from downloads. Many of you may already have NetworkX because it comes default with the Anaconda installation of iPython."
   ]
  },
  {
   "cell_type": "markdown",
   "metadata": {},
   "source": [
    "We provide the following basic imports as well as a function written to draw graphs for you. The structure of a graph object is a collection of edges, in (node1, node2) form. You should know how to use `draw_graph`, but you don't really need to know how it works. Play around with it and look at those pretty graphs :)"
   ]
  },
  {
   "cell_type": "code",
   "execution_count": null,
   "metadata": {},
   "outputs": [],
   "source": [
    "%matplotlib inline\n",
    "import matplotlib.pyplot as plt\n",
    "import networkx as nx\n",
    "import numpy as np"
   ]
  },
  {
   "cell_type": "code",
   "execution_count": null,
   "metadata": {},
   "outputs": [],
   "source": [
    "def draw_graph(graph, labels=None, graph_layout='shell',\n",
    "               node_size=3200, node_color='blue', node_alpha=0.3,\n",
    "               node_text_size=24,\n",
    "               edge_color='blue', edge_alpha=0.3, edge_tickness=2,\n",
    "               edge_text_pos=0.6,\n",
    "               text_font='sans-serif'):\n",
    "    G=nx.Graph()\n",
    "    for edge in graph:\n",
    "        G.add_edge(edge[0], edge[1])\n",
    "    # These are different layouts for the network you may try.\n",
    "    # Shell seems to work best\n",
    "    if graph_layout == 'spring':\n",
    "        graph_pos=nx.spring_layout(G)\n",
    "    elif graph_layout == 'spectral':\n",
    "        graph_pos=nx.spectral_layout(G)\n",
    "    elif graph_layout == 'random':\n",
    "        graph_pos=nx.random_layout(G)\n",
    "    else:\n",
    "        graph_pos=nx.shell_layout(G)\n",
    "    nx.draw_networkx_nodes(G,graph_pos,node_size=node_size, \n",
    "                           alpha=node_alpha, node_color=node_color)\n",
    "    nx.draw_networkx_edges(G,graph_pos,width=edge_tickness,\n",
    "                           alpha=edge_alpha,edge_color=edge_color)\n",
    "    nx.draw_networkx_labels(G, graph_pos,font_size=node_text_size,\n",
    "                            font_family=text_font)\n",
    "    plt.show()"
   ]
  },
  {
   "cell_type": "code",
   "execution_count": null,
   "metadata": {},
   "outputs": [],
   "source": [
    "graph = [(1,2),(2,3),(1,3)]\n",
    "draw_graph(graph)"
   ]
  },
  {
   "cell_type": "code",
   "execution_count": null,
   "metadata": {},
   "outputs": [],
   "source": [
    "graph = [(1,1),(2,2)]\n",
    "draw_graph(graph) # no self-loops, so put a self-loop if you want a disconnected node"
   ]
  },
  {
   "cell_type": "markdown",
   "metadata": {},
   "source": [
    "Lets create a function that returns all the nodes that can be reached from a certain starting point given the representation of a graph above.\n",
    "\n",
    "### 1a. Fill out the following method to find the set of connected components from a starting node on a graph."
   ]
  },
  {
   "cell_type": "code",
   "execution_count": null,
   "metadata": {},
   "outputs": [],
   "source": [
    "def find_connected_component(graph, starting_node):\n",
    "    \"\"\"\n",
    "    >>> graph = [(1,2),(2,3),(1,3)]\n",
    "    >>> find_connected_component(graph,1)\n",
    "    {1, 2, 3}\n",
    "    >>> graph = [(1,1),(2,3),(2,4),(3,5),(3,6),(4,6),(1,7),(7,8),(1,8)]\n",
    "    >>> find_connected_component(graph,1)\n",
    "    {1, 7, 8}\n",
    "    >>> find_connected_component(graph,2)\n",
    "    {2, 3, 4, 5, 6}\n",
    "    \"\"\"\n",
    "    connected_nodes = set()\n",
    "    connected_nodes.add( starting_node )\n",
    "    \n",
    "    changed_flag = True\n",
    "    while changed_flag:\n",
    "        changed_flag = False\n",
    "        for node1,node2 in graph: # iterate over edges\n",
    "            if (node1 in connected_nodes and node2 not in connected_nodes) or \\\n",
    "                (node1 not in connected_nodes and node2 in connected_nodes):\n",
    "                # YOUR CODE HERE\n",
    "    \n",
    "    return connected_nodes"
   ]
  },
  {
   "cell_type": "code",
   "execution_count": null,
   "metadata": {},
   "outputs": [],
   "source": [
    "graph = [(1,2),(2,3),(1,3)]\n",
    "find_connected_component(graph,1)"
   ]
  },
  {
   "cell_type": "code",
   "execution_count": null,
   "metadata": {},
   "outputs": [],
   "source": [
    "graph = [(1,1),(2,3),(2,4),(3,5),(3,6),(4,6),(1,7),(7,8),(1,8)]\n",
    "# draw_graph(graph)\n",
    "find_connected_component(graph,1)"
   ]
  },
  {
   "cell_type": "code",
   "execution_count": null,
   "metadata": {},
   "outputs": [],
   "source": [
    "find_connected_component(graph,2)"
   ]
  },
  {
   "cell_type": "markdown",
   "metadata": {},
   "source": [
    "### 1b. Fill out the following method that takes and returns all the connected components of the graph."
   ]
  },
  {
   "cell_type": "markdown",
   "metadata": {},
   "source": [
    "You may want to use the function you wrote above."
   ]
  },
  {
   "cell_type": "code",
   "execution_count": null,
   "metadata": {},
   "outputs": [],
   "source": [
    "def connected_components(graph):\n",
    "    \"\"\"\n",
    "    >>> graph = [(1,1),(2,3),(2,4),(3,5),(3,6),(4,6),(1,7),(7,8),(1,8)]\n",
    "    >>> connected_components(graph)\n",
    "    [{1, 7, 8}, {2, 3, 4, 5, 6}]\n",
    "    >>> largest_component_size(graph)\n",
    "    5\n",
    "    \"\"\"\n",
    "    nodes = set()\n",
    "    components = []\n",
    "    for edge in graph:\n",
    "        for node in edge:\n",
    "            nodes.add(node)\n",
    "    for node in nodes:\n",
    "        flag = False\n",
    "        for component in components:\n",
    "            if node in component:\n",
    "                flag = True\n",
    "                break\n",
    "        if not flag:\n",
    "            # YOUR CODE HERE\n",
    "    \n",
    "    \n",
    "    return components"
   ]
  },
  {
   "cell_type": "code",
   "execution_count": null,
   "metadata": {},
   "outputs": [],
   "source": [
    "# These guys should work after you've implemented connected_components\n",
    "component_sizes = lambda graph: [len(component) for component in (connected_components(graph))]\n",
    "largest_component_size = lambda graph: max(component_sizes(graph))"
   ]
  },
  {
   "cell_type": "code",
   "execution_count": null,
   "metadata": {},
   "outputs": [],
   "source": [
    "print(connected_components(graph))\n",
    "print(largest_component_size(graph))"
   ]
  },
  {
   "cell_type": "markdown",
   "metadata": {},
   "source": [
    "Next, we want to create a function that, given the number of nodes in a graph, will randomly generate edges between nodes. That is, we want to construct a random graph following the Erdős–Rényi model.\n",
    "\n",
    "### 1c. Fill out the following function to create an Erdős–Rényi random graph $G(n,p)$."
   ]
  },
  {
   "cell_type": "code",
   "execution_count": null,
   "metadata": {},
   "outputs": [],
   "source": [
    "def G(n,p):\n",
    "    graph = [] \n",
    "    # Recall that we describe a graph as a list enumerating all edges. Node names can be numbers.\n",
    "    \n",
    "    for i in range(n):\n",
    "        graph.append((i,i))\n",
    "    for i in range(n):\n",
    "        for j in range(i+1,n):\n",
    "            if np.random.rand() < p:\n",
    "                # YOUR CODE HERE\n",
    "    \n",
    "    return graph"
   ]
  },
  {
   "cell_type": "markdown",
   "metadata": {},
   "source": [
    "Make sure you can see all nodes from 1 to 10 in the graph below -- if not, check your code!"
   ]
  },
  {
   "cell_type": "code",
   "execution_count": null,
   "metadata": {},
   "outputs": [],
   "source": [
    "graph = G(10,0.1)\n",
    "draw_graph(graph)"
   ]
  },
  {
   "cell_type": "markdown",
   "metadata": {},
   "source": [
    "## Question 2 -- Phase Transitions!\n",
    "\n",
    "Now let's examine some of the qualitative properties of a random graph developed in the original Erdős & Rényi paper.\n",
    "\n",
    "(You don't need to code anything for this question)."
   ]
  },
  {
   "cell_type": "code",
   "execution_count": null,
   "metadata": {},
   "outputs": [],
   "source": [
    "epsilon = 1/100"
   ]
  },
  {
   "cell_type": "markdown",
   "metadata": {},
   "source": [
    "#### Transition 1: If $np < 1$, then a graph in $\\operatorname{G}(n, p)$ will almost surely have no connected components of size larger than $\\operatorname{O}(\\log(n))$"
   ]
  },
  {
   "cell_type": "code",
   "execution_count": null,
   "metadata": {},
   "outputs": [],
   "source": [
    "largest_sizes = []\n",
    "n = 50\n",
    "p = 1/50 - epsilon\n",
    "for i in range(1000):\n",
    "    graph = G(n,p)\n",
    "    largest_sizes.append(largest_component_size(graph))\n",
    "    \n",
    "print(\"We expect the largest component size to be on the order of: \", np.log2(n))\n",
    "print(\"True average size of the largest component: \", np.mean(largest_sizes))"
   ]
  },
  {
   "cell_type": "markdown",
   "metadata": {},
   "source": [
    "Let's check a visualization of the last graph we generated:"
   ]
  },
  {
   "cell_type": "code",
   "execution_count": null,
   "metadata": {},
   "outputs": [],
   "source": [
    "plt.figure(figsize=(16, 16))\n",
    "draw_graph(graph, graph_layout='spring')"
   ]
  },
  {
   "cell_type": "markdown",
   "metadata": {},
   "source": [
    "#### Transition 2: If $np = 1$, then a graph in $\\operatorname{G}(n, p)$ will almost surely have a largest component whose size is of order $n^{2/3}$."
   ]
  },
  {
   "cell_type": "code",
   "execution_count": null,
   "metadata": {},
   "outputs": [],
   "source": [
    "largest_sizes = []\n",
    "n = 50\n",
    "p = 1/50\n",
    "for i in range(1000):\n",
    "    graph = G(n,p)\n",
    "    largest_sizes.append(largest_component_size(graph))\n",
    "\n",
    "print(\"We expect the largest componenet size to be on the order of: \", n**(2/3))\n",
    "print(\"True average size of the largest componenent: \", np.mean(largest_sizes))"
   ]
  },
  {
   "cell_type": "markdown",
   "metadata": {},
   "source": [
    "We can see this largest component visually:"
   ]
  },
  {
   "cell_type": "code",
   "execution_count": null,
   "metadata": {},
   "outputs": [],
   "source": [
    "plt.figure(figsize=(16, 16))\n",
    "draw_graph(graph, graph_layout='spring')"
   ]
  },
  {
   "cell_type": "markdown",
   "metadata": {},
   "source": [
    "#### Transition 3: If $np → c > 1$, where $c$ is a constant, then a graph in $\\operatorname{G}(n,p)$ will almost surely have a unique giant component containing a positive fraction of the vertices. No other component will contain more than $\\operatorname{O}(\\log(n))$ vertices.\n",
    "\n",
    "We'll increase the number of nodes by a factor of 10 here so we can see this more clearly. Pay attention to the precipitous decline from the size of the largest connected component to that of all the rest."
   ]
  },
  {
   "cell_type": "code",
   "execution_count": null,
   "metadata": {},
   "outputs": [],
   "source": [
    "largest_sizes = []\n",
    "epsilon = 1/10000\n",
    "n = 5000\n",
    "p = 1/5000 + epsilon\n",
    "graph = G(n,p)\n",
    "\n",
    "print(\"The sorted sizes of the components are:\")\n",
    "print(sorted(component_sizes(graph))[::-1])\n",
    "print(\"No other component should have size more than on the order of:\", np.log2(n))"
   ]
  },
  {
   "cell_type": "markdown",
   "metadata": {},
   "source": [
    "#### Transition 4: If $p<\\tfrac{(1-\\epsilon)\\ln n}{n}$, then a graph in $\\operatorname{G}(n,p)$ will almost surely contain isolated vertices, and thus be disconnected.\n",
    "\n",
    "This may take several minutes."
   ]
  },
  {
   "cell_type": "code",
   "execution_count": null,
   "metadata": {},
   "outputs": [],
   "source": [
    "largest_sizes = []\n",
    "epsilon = .1\n",
    "n = 10000\n",
    "p = (1-epsilon)*np.log(n) / n\n",
    "num_isolated = 0\n",
    "trials = 10\n",
    "for _ in range(trials):\n",
    "    graph = G(n,p)\n",
    "    print('List of component sizes:', component_sizes(graph))\n",
    "    if 1 in component_sizes(graph):\n",
    "        num_isolated += 1\n",
    "print(\"Probability of graphs containing isolated vertices: \", num_isolated / trials)"
   ]
  },
  {
   "cell_type": "markdown",
   "metadata": {},
   "source": [
    "#### Transition 5: If $p>\\tfrac{(1+\\epsilon)\\ln n}{n}$, then a graph in $\\operatorname{G}(n,p)$ will almost surely be connected.\n",
    "\n",
    "This may take several minutes."
   ]
  },
  {
   "cell_type": "code",
   "execution_count": null,
   "metadata": {},
   "outputs": [],
   "source": [
    "largest_sizes = []\n",
    "epsilon = 1/3\n",
    "n = 10000\n",
    "p = (1+epsilon)*np.log(n) / n\n",
    "num_isolated = 0\n",
    "trials = 10\n",
    "for _ in range(trials):\n",
    "    graph = G(n,p)\n",
    "    print('List of component sizes:', component_sizes(graph))\n",
    "    if 1 in component_sizes(graph):\n",
    "        num_isolated += 1\n",
    "print(\"Probability that graphs are connected: \", 1 - num_isolated / trials)"
   ]
  },
  {
   "cell_type": "markdown",
   "metadata": {},
   "source": [
    "Cool! Now we've experimentally verified the results of the Erdős–Rényi paper. \n",
    "\n",
    "Isn't it neat that you can rigorously formalize this kind of qualitative behavior of a graph, and then clearly see these transitions in simulation? "
   ]
  },
  {
   "cell_type": "markdown",
   "metadata": {},
   "source": [
    "## Question 3 -- The Stochastic Block Model"
   ]
  },
  {
   "cell_type": "markdown",
   "metadata": {},
   "source": [
    "So far we've discussed the Erdős–Rényi model of a random graph $G(n,p)$. There are extensions that are better, more realistic models in many situations.\n",
    "\n",
    "As a motivating example, consider the graph formed by friendships of Berkeley students and Stanford students on Facebook.  The probability of a friendship between two students both attending UC Berkeley is much higher than the probability that a student from UC Berkeley is friends with a student from Stanford. In the Erdos-Renyi model, however, the two edges formed by these friendships have the same probability!\n",
    "\n",
    "In this section, we will explore communities such as the following:\n",
    "\n",
    "<img src=\"https://data.graphstream-project.org/talks/CSSS2012/media/Community_Structure2.jpg\" width=300 />"
   ]
  },
  {
   "cell_type": "markdown",
   "metadata": {},
   "source": [
    "How will we do this? Use the <b>stochastic block model</b> (let's call it SBM) -- we have graphs of $G(n,p,q)$ (for simplicity, let's assume $n$ is even and $p>q$). \n",
    "\n",
    "In this model, we have two \"communities\" each of size $\\frac{n}{2}$ such that the probability of an edge existing between any two nodes within a community is $p$ and the probability of an edge between the two communities is $q$.\n",
    "<img src=\"http://i.imgur.com/JAPqQNf.png\" width=\"400\" height=\"400\" />"
   ]
  },
  {
   "cell_type": "markdown",
   "metadata": {},
   "source": [
    "Our goal will be to recover the original communities. For this example, the result would look something like:\n",
    "<img src=\"http://i.imgur.com/Ec2Xehs.png\" width=\"450\" height=\"450\" />\n",
    "Let's begin by defining a function to generate graphs according to the stochastic block model."
   ]
  },
  {
   "cell_type": "markdown",
   "metadata": {},
   "source": [
    "### 3a. Fill out the following function to create a graph $G(n,p,q)$ according to the SBM."
   ]
  },
  {
   "cell_type": "markdown",
   "metadata": {},
   "source": [
    "**Important Note**: make sure that the first $\\frac{n}{2}$ nodes are part of community A and the second $\\frac{n}{2}$ nodes are part of community B.\n",
    "\n",
    "We will be using this assumption for later questions in this lab, when we try to recover the two communities."
   ]
  },
  {
   "cell_type": "code",
   "execution_count": null,
   "metadata": {},
   "outputs": [],
   "source": [
    "def G(n,p,q):\n",
    "    \"\"\"\n",
    "    Let the first n/2 nodes be part of community A and \n",
    "    the second n/2 part of community B.\n",
    "    \"\"\"\n",
    "    assert(n % 2 == 0)\n",
    "    assert(p > q)\n",
    "    mid = int(n/2)\n",
    "    graph = []\n",
    "    for i in range(n):\n",
    "        graph.append((i,i))\n",
    "        \n",
    "    #Make community A\n",
    "    for i in range(mid):\n",
    "        for j in range(i+1, mid):\n",
    "            ### YOUR CODE HERE\n",
    "                \n",
    "    #Make community B\n",
    "    for i in range(mid, n):\n",
    "        for j in range(i+1,n):\n",
    "            ### YOUR CODE HERE\n",
    "                \n",
    "    #Form connections between communities\n",
    "    for i in range(mid):\n",
    "        for j in range(mid, n):\n",
    "            if np.random.rand() < q:\n",
    "                graph.append( (i, j) )\n",
    "    return graph"
   ]
  },
  {
   "cell_type": "markdown",
   "metadata": {},
   "source": [
    "Let's try testing this out with an example graph -- check that it looks right!"
   ]
  },
  {
   "cell_type": "code",
   "execution_count": null,
   "metadata": {},
   "outputs": [],
   "source": [
    "graph = G(20,0.6,0.05)\n",
    "plt.figure(figsize=(12, 12))\n",
    "draw_graph(graph,graph_layout='spring')"
   ]
  },
  {
   "cell_type": "markdown",
   "metadata": {},
   "source": [
    "Now recall the previous example:\n",
    "<img src=\"http://i.imgur.com/Ec2Xehs.png\" width=\"450\" height=\"450\" />\n"
   ]
  },
  {
   "cell_type": "markdown",
   "metadata": {},
   "source": [
    "How did we determine the most likely assignment of nodes to communities?\n",
    "\n",
    "An intuitive approach is to find the **min-bisection** -- the split of $G$ into 2 groups each of size $\\frac{n}{2}$ that has the *minimum total edges crossing the partition*. The intuition here is that we want to **minimize** friendships across communities, as under our assumptions, **p > q** so it is more likely to be friends within a community than across. Notice, if we assume that **p < q**, then we would have been interested in the max-bisection.\n",
    "\n",
    "It turns out that this approach is the optimal method of recovering community assignments in terms of maximizing over all possible partitions the probability of seeing the graph $G$ given a community partition. This is called the Maximum Likelihood Estimate (MLE) of the partition given the graph G. It is an interesting exercise to prove this which you can try if you would like. You will prove this result in homework when we go over Maximum Likelihood Estimation and Maximum A Posteriori Estimation.\n"
   ]
  },
  {
   "cell_type": "markdown",
   "metadata": {},
   "source": [
    "### 3b. Given a graph $G(n,p,q)$, write a function to find the maximum likelihood estimate of the two communities."
   ]
  },
  {
   "cell_type": "code",
   "execution_count": null,
   "metadata": {},
   "outputs": [],
   "source": [
    "#Helper Functions\n",
    "from collections import defaultdict\n",
    "import itertools\n",
    "\n",
    "def adjacency_list(graph):\n",
    "    \"\"\"\n",
    "    Takes in the current representation of the graph, outputs an equivalent\n",
    "    adjacenty list\n",
    "    \"\"\"\n",
    "    adj_list = defaultdict(set)\n",
    "    for node in graph:\n",
    "        adj_list[node[0]].add(node[1])\n",
    "        adj_list[node[1]].add(node[0])\n",
    "    return adj_list\n",
    "        \n",
    "#Return a list of nodes in the graph\n",
    "nodes = lambda adj_list: list(adj_list)\n",
    "\n",
    "#Return a list of possible communities\n",
    "possible_communities = lambda nodes: set(itertools.combinations(nodes, int(len(nodes)/2)))\n",
    "\n",
    "#Return the degree of a specific node\n",
    "deg = lambda node, adj_list: len(adj_list[node]) - 1 #Subtract the self loop\n",
    "\n",
    "def community_degree(community, adj_list):\n",
    "    \"\"\"\n",
    "    Return the number of edges between nodes in the given community\n",
    "    \"\"\"\n",
    "    total_edges = 0\n",
    "    for node in community:\n",
    "        for adjacent_node in adj_list[node]:\n",
    "            if adjacent_node in community:\n",
    "                total_edges += 1\n",
    "    return total_edges\n"
   ]
  },
  {
   "cell_type": "code",
   "execution_count": null,
   "metadata": {},
   "outputs": [],
   "source": [
    "def mle(graph):\n",
    "    \"\"\"\n",
    "    Return a list of size n/2 that contains the nodes of one of the \n",
    "    two communities in the graph obtained from the min bisection rule.\n",
    "    \n",
    "    The other community is implied to be the set of of nodes that\n",
    "    aren't in the returned result of this function.\n",
    "    \"\"\"\n",
    "    adj_list = adjacency_list(graph)\n",
    "    all_nodes = nodes(adj_list)\n",
    "    possible_comms = possible_communities(all_nodes)\n",
    "    max_community = None\n",
    "    max_connections = 0\n",
    "    for communityA in possible_comms:\n",
    "        communityB = set(all_nodes).difference(set(communityA)) # This produces all the nodes in the other community\n",
    "        d = ### YOUR CODE HERE\n",
    "        \n",
    "            # note that: total #edges = #edges within A + #edges within B + #edges across A,B\n",
    "        if d > max_connections:\n",
    "            max_connections = d\n",
    "            max_community = communityA\n",
    "    return max_community"
   ]
  },
  {
   "cell_type": "markdown",
   "metadata": {},
   "source": [
    "Here's a quick test for your MLE function -- check that the resulting partitions look okay!"
   ]
  },
  {
   "cell_type": "code",
   "execution_count": null,
   "metadata": {},
   "outputs": [],
   "source": [
    "graph = G(10,0.6,0.05)\n",
    "plt.figure(figsize=(8, 8))\n",
    "draw_graph(graph,graph_layout='spring')"
   ]
  },
  {
   "cell_type": "code",
   "execution_count": null,
   "metadata": {},
   "outputs": [],
   "source": [
    "community = mle(graph)\n",
    "assert len(community) == 5\n",
    "\n",
    "print('The community found is the nodes', community)"
   ]
  },
  {
   "cell_type": "markdown",
   "metadata": {},
   "source": [
    "One interesting followup question is if we can determine when the MLE will exactly recover the communities as a function of $(p,q,n)$.\n",
    "\n",
    "It turns out that there is a threshold on $(p,q,n)$ for a phase transition which determines whether or not the communities can be recovered using MLE. This means there exists a function $f$, where the threshold for exact recovery occurs at \n",
    "\n",
    "$$f(p,q,n) > 1$$\n",
    "\n",
    "After this threshold, we can recover the original communities with high probability in the SBM.\n",
    "\n",
    "You are not required to solve for this threshold, but are encouraged to think about how it should look, and check it out in the solutions. Congratulations on finishing the lab!"
   ]
  },
  {
   "cell_type": "markdown",
   "metadata": {},
   "source": [
    "## References\n",
    "\n",
    "1. https://www.udacity.com/wiki/creating-network-graphs-with-python"
   ]
  }
 ],
 "metadata": {
  "kernelspec": {
   "display_name": "Python 3",
   "language": "python",
   "name": "python3"
  },
  "language_info": {
   "codemirror_mode": {
    "name": "ipython",
    "version": 3
   },
   "file_extension": ".py",
   "mimetype": "text/x-python",
   "name": "python",
   "nbconvert_exporter": "python",
   "pygments_lexer": "ipython3",
   "version": "3.7.7"
  }
 },
 "nbformat": 4,
 "nbformat_minor": 4
}
