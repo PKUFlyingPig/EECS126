{
 "cells": [
  {
   "cell_type": "markdown",
   "metadata": {},
   "source": [
    "# Codes for Efficient Transmission of Data"
   ]
  },
  {
   "cell_type": "markdown",
   "metadata": {},
   "source": [
    "## Introduction \n",
    "\n",
    "When sending packets of data over a communication channel such as the internet or a radio channel, packets often get erased. Because of this, packets must be sent under some erasure code such that the data can still be recovered. In CS 70, you may have learned about an erasure code that involves embedding the data in a polynomial, and then sampling points from that polynomial. There, we assumed that there were at most $k$ erasures in the channel. This week, we'll explore a different channel model in which each packet independently has a probability $p$ of being erased. In particular, this lab will look at random bipartite graphs (the balls and bins model).\n",
    "\n",
    "A little more on the channel and the erasure code; formally, our channel is called the binary erasure channel (BEC), where bits that are sent through a noisy channel either make it through unmodified or are tagged as \"corrupt\", in which case the received information is dropped in all further information processing steps. Here's an image that shows what happens:\n",
    "\n",
    "<center><img src=\"https://upload.wikimedia.org/wikipedia/commons/thumb/b/b6/Binary_erasure_channel.svg/156px-Binary_erasure_channel.svg.png\"></center>\n",
    "\n",
    "If we wanted to convey a message, we could consider a feedback channel in which the receiver tells the sender which messages were received and the sender re-sends the dropped packets. This process can be repeated until the receiver gets all of the intended message. While this procedure is indeed optimal in all senses of the word, feedback is simply not possible in many circumstances. If Netflix is trying to stream a show chunked into $n$ data chunks to a million people, its servers can't process all the feedback from the users. Thus, Netflix must use a method independent of feedback. If they use near-optimal codes to encode and constantly send out the same random chunks of the video's data to all users, then they can be sure that users get what they need in only a little more than $n$ transmissions *no matter what parts of the show each individual user lost through their specific channel*!\n",
    "\n",
    "So what's the secret to this magic?  It's a two step process of clever encoding and decoding:"
   ]
  },
  {
   "cell_type": "markdown",
   "metadata": {},
   "source": [
    "### Encoding\n",
    "1. Suppose your data can be divided into $n$ chunks. First, pick an integer $d$ ($1 \\leq d \\leq n$) according to some distribution.\n",
    "2. With $d$ picked, now select $d$ random chunks of the data and combine their binary representations together using the XOR operator.\n",
    "3. Transmit these chunks, along with the metadata telling which actual chunk indices were XOR'd, as a packet. If a packet is erased, both the chunks it contains and the chunk indices would be lost. \n",
    "\n",
    "### Decoding\n",
    "1. For each packet that has been received, check if it only contains one chunk, in which case the packet is exactly equal to the single chunk it contains. If not, we can check if any of the chunks in the packet are already known, in which case XOR that chunk with the packet and remove it from the list of chunk indices that make up the packet.\n",
    "3. If there are two or more indices in the list left for the packet, we cannot figure out any more information!  Put it on the side for looking at later.\n",
    "4. With any newly decoded information, we may be able to decode previously undecodable packets that we had put on the side.  Go through all unsolved packets and try to decode more packets until nothing more can be done.\n",
    "5. Wait for the next packet to come and repeat!\n",
    "\n",
    "Now what's left for you to do?  Well, remember that number $d$?  It needs to be picked according to some distribution, and which distribution is the million dollar question!\n",
    "\n",
    "\n",
    "### Example\n",
    "<center><img src=\"bipartite.png\" style=\"width: 300px;\"> </center>\n",
    "\n",
    "Consider the above bipartite graph. Here, the right square nodes represent the packets, and the left circular nodes represent the data chunks ($X_i, i=1,..,4$). There is an edge from a packet to a chunk if the packet contains that chunk. Let's try decoding the packets chronologically.\n",
    "1. Since the first packet contains only the third data chunk, we are able to immediately resolve it and find that $X_3=1$.\n",
    "2. The second packet contains the second and third chunks XOR'd together. Since we already know the third chunk, we can XOR the third chunk ($X_3=1$) with the data packet (0) to get the value of the second data chunk, $X_2=1$.\n",
    "3. The third packet contains the XOR of data chunks 1, 2, and 4. We have already determined chunks 2 and 3, so we are able to XOR 2 from this packet, but are still left with 1 and 4, and so must move on.\n",
    "4. With the arrival of the fourth packet, we are able to resolve everything: data chunks 2 and 3 are already determined, and so we are able to XOR chunk 3 ($X_3=1$) with this new data packet (1) to get the value of the chunk 4, $X_4=0$. With this new information, we are able to resolve $X_1$, as packet 3 gave us the equation $1 = X_1 \\oplus X_2 \\oplus X_4 = X_1 \\oplus 1 \\oplus 0$. We can solve this to get $X_1 = 0$.\n",
    "5. We have now solved for all the data chunks, with $X_1 = 0, X_2 = 1, X_3 = 1, X_4 = 0$.\n",
    "\n",
    "As you might be able to tell, by choosing a good degree distribution for $d$, even when random incoming packets were lost (not shown), you were still able to recover all $4$ symbols only from $4$ received packets, despite the sender not knowing what packets you lost through the BEC."
   ]
  },
  {
   "cell_type": "markdown",
   "metadata": {},
   "source": [
    "## Q1. Code\n",
    "\n",
    "We've provided you with some starter code, including a Packet class, a Transmitter class, a Channel class, and a Receiver class. **Your job is to complete the receive_packet() function in the Receiver class**. Feel free to write any additional functions that you may need."
   ]
  },
  {
   "cell_type": "markdown",
   "metadata": {},
   "source": [
    "### Packet Class & Utility functions\n",
    "\n",
    "A packet consists of...\n",
    "- chunk_indices: Which chunks are chosen\n",
    "- data: The 'XOR'ed data"
   ]
  },
  {
   "cell_type": "code",
   "execution_count": null,
   "metadata": {},
   "outputs": [],
   "source": [
    "%matplotlib inline  \n",
    "import matplotlib.pyplot as plt\n",
    "import numpy as np\n",
    "import json\n",
    "import random\n",
    "\n",
    "class Packet:\n",
    "    size_of_packet = 256\n",
    "    def __init__(self, chunks, chunk_indices):\n",
    "        self.data = self.xor(chunks)\n",
    "        self.chunk_indices = chunk_indices\n",
    "\n",
    "    def xor(self, chunks):\n",
    "        tmp = np.zeros(Packet.size_of_packet, 'uint8')\n",
    "        for each_chunk in chunks:\n",
    "            tmp = np.bitwise_xor(tmp, each_chunk)\n",
    "        return tmp\n",
    "            \n",
    "    def num_of_chunks(self):\n",
    "        return len(self.chunk_indices)"
   ]
  },
  {
   "cell_type": "markdown",
   "metadata": {},
   "source": [
    "### Transmitter & Encoder Class\n",
    "\n",
    "You can initiate an encoder with a string! Then, <tt>generate_packet()</tt> will return a randomly encoded packet."
   ]
  },
  {
   "cell_type": "code",
   "execution_count": null,
   "metadata": {},
   "outputs": [],
   "source": [
    "class Transmitter:\n",
    "    def __init__(self, chunks, channel, degree_distribution):\n",
    "        self.chunks = chunks\n",
    "        self.num_chunks = len(chunks)\n",
    "        self.channel = channel\n",
    "        self.degree_distribution = degree_distribution\n",
    "        \n",
    "    def generate_new_packet(self, num_sent=None):\n",
    "        if self.degree_distribution == 'single':\n",
    "            # Always give a degree of 1\n",
    "            n_of_chunks = 1\n",
    "        elif self.degree_distribution == 'double':\n",
    "            # Always give a degree of 2\n",
    "            n_of_chunks = 2\n",
    "        elif self.degree_distribution == 'mixed':\n",
    "            # Give a degree of 1 half the time, 2 the other half\n",
    "            if random.random() < 0.5:\n",
    "                n_of_chunks = 1\n",
    "            else:\n",
    "                n_of_chunks = 2\n",
    "        elif self.degree_distribution == 'baseline':\n",
    "            \"\"\"\n",
    "            Randomly assign a degree from between 1 and 5.\n",
    "            If num_chunks < 5, randomly assign a degree from \n",
    "            between 1 and num_chunks\n",
    "            \"\"\"\n",
    "            n_of_chunks = random.randint(1,min(5, self.num_chunks))\n",
    "        elif self.degree_distribution == 'sd':\n",
    "            # Soliton distribution\n",
    "            tmp = random.random()\n",
    "            n_of_chunks = -1\n",
    "            for i in range(2, self.num_chunks + 1):\n",
    "                if tmp > 1/np.double(i):\n",
    "                    n_of_chunks = int(np.ceil(1/tmp))\n",
    "                    break\n",
    "            if n_of_chunks == -1:\n",
    "                n_of_chunks = 1\n",
    "        elif self.degree_distribution == 'competition':\n",
    "            # BEGIN YOUR SOLUTION (Question 4)\n",
    "            pass\n",
    "            # END YOUR SOLUTION\n",
    "        chunk_indices = random.sample(range(self.num_chunks), n_of_chunks)\n",
    "        chunks = [ self.chunks[x] for x in chunk_indices ]\n",
    "        return Packet( chunks, chunk_indices )\n",
    "        \n",
    "    def transmit_one_packet(self, num_sent=None):\n",
    "        packet = self.generate_new_packet(num_sent)\n",
    "        self.channel.enqueue( packet )"
   ]
  },
  {
   "cell_type": "markdown",
   "metadata": {},
   "source": [
    "### Channel Class\n",
    "\n",
    "Channel class takes a packet and erase it with probability eps."
   ]
  },
  {
   "cell_type": "code",
   "execution_count": null,
   "metadata": {},
   "outputs": [],
   "source": [
    "class Channel:\n",
    "    def __init__(self, eps):\n",
    "        self.eps = eps\n",
    "        self.current_packet = None\n",
    "        \n",
    "    def enqueue(self, packet):\n",
    "        if random.random() < self.eps:\n",
    "            self.current_packet = None\n",
    "        else:\n",
    "            self.current_packet = packet\n",
    "            \n",
    "    def dequeue(self):\n",
    "        return self.current_packet"
   ]
  },
  {
   "cell_type": "markdown",
   "metadata": {},
   "source": [
    "### Receiver & Decoder Class\n",
    "\n",
    "You can initiate a decoder with the total number of chunks. Then, <tt>add_packet()</tt> will add a received packet to the decoder."
   ]
  },
  {
   "cell_type": "code",
   "execution_count": null,
   "metadata": {},
   "outputs": [],
   "source": [
    "class Receiver:\n",
    "    def __init__(self, num_chunks, channel):\n",
    "        self.num_chunks = num_chunks\n",
    "        \n",
    "        # List of packets to process.\n",
    "        self.received_packets = []\n",
    "        \n",
    "        # List of decoded chunks, where self.chunks[i] is the original chunk x_i.\n",
    "        self.chunks = np.zeros((num_chunks, Packet.size_of_packet),dtype=np.uint8)\n",
    "        \n",
    "        # Boolean array to keep track of which packets have been found, where self.found[i] indicates\n",
    "        # if x_i has been found.\n",
    "        self.found = [ False for x in range(self.num_chunks) ]\n",
    "        self.channel = channel\n",
    "        \n",
    "    def receive_packet(self):\n",
    "        packet = self.channel.dequeue()\n",
    "        if packet is not None:\n",
    "            pass\n",
    "            # BEGIN YOUR SOLUTION\n",
    "            \n",
    "            # END YOUR SOLUTION\n",
    "            \n",
    "    def isDone(self):\n",
    "        return self.chunksDone() == self.num_chunks\n",
    "\n",
    "    def chunksDone(self):\n",
    "        return sum(self.found)"
   ]
  },
  {
   "cell_type": "markdown",
   "metadata": {},
   "source": [
    "## Q2. Sending the raccoon"
   ]
  },
  {
   "cell_type": "code",
   "execution_count": null,
   "metadata": {},
   "outputs": [],
   "source": [
    "from scipy import misc\n",
    "import matplotlib.cm as cm\n",
    "\n",
    "# pip3 install pillow\n",
    "from PIL import Image\n",
    "import numpy as np\n",
    "l = np.asarray(plt.imread(\"raccoon.jpg\"))\n",
    "# converts the image to grayscale\n",
    "x = np.zeros((512,512),dtype=np.uint8)\n",
    "for i in range(512):\n",
    "    for j in range(512):\n",
    "        x[i][j] = l[i][j][0]*0.299+l[i][j][1]*0.587+l[i][j][2]*0.113\n",
    "\n",
    "plt.imshow(x, cmap = cm.Greys_r)"
   ]
  },
  {
   "cell_type": "markdown",
   "metadata": {},
   "source": [
    "**a. Break up the image shown below into $1024$ chunks of size $256$ each.** Hint: You should only need one line for this part."
   ]
  },
  {
   "cell_type": "code",
   "execution_count": null,
   "metadata": {
    "scrolled": true
   },
   "outputs": [],
   "source": [
    "tt = x.reshape(1,512*512)[0]\n",
    "size_of_packet = 256 \n",
    "num_of_packets = 1024\n",
    "assert len(tt) == size_of_packet * num_of_packets\n",
    "\n",
    "# BEGIN YOUR SOLUTION\n",
    "chunks = tt...\n",
    "# END YOUR SOLUTION"
   ]
  },
  {
   "cell_type": "markdown",
   "metadata": {},
   "source": [
    "Here's a function that simulates the transmission of data across the channel. It returns a tuple containing the total number of packets sent, the intermediate image every 512 packets and the final image, and the number of chunks decoded every 64 packets). You'll use it for the next question."
   ]
  },
  {
   "cell_type": "code",
   "execution_count": null,
   "metadata": {},
   "outputs": [],
   "source": [
    "# Returns a tuple (packets sent, intermediate image every 512 packets + final image, chunks decoded every 64 packets)\n",
    "def send(tx, rx, verbose=False):\n",
    "    threshold = rx.num_chunks * 20\n",
    "    num_sent = 0\n",
    "    images = []\n",
    "    chunks_decoded = []\n",
    "    while not rx.isDone():\n",
    "        tx.transmit_one_packet(num_sent)\n",
    "        rx.receive_packet()\n",
    "        if num_sent % 512 == 0:\n",
    "            images.append(np.array(rx.chunks.reshape((512,512))))\n",
    "            if verbose:\n",
    "                print(num_sent, rx.chunksDone())\n",
    "        if num_sent % 64 == 0:\n",
    "            chunks_decoded.append(rx.chunksDone())\n",
    "        num_sent += 1\n",
    "        if num_sent > threshold:\n",
    "            print(\"Ending transmission because too many packets have been sent. This may be caused by a bug in \" + \n",
    "                  \"receive_packet or an inefficient custom strategy.\")\n",
    "            break\n",
    "            \n",
    "    chunks_decoded.append(rx.chunksDone())\n",
    "    images.append(rx.chunks.reshape((512,512)))\n",
    "    return (num_sent, images, chunks_decoded)"
   ]
  },
  {
   "cell_type": "markdown",
   "metadata": {},
   "source": [
    "**b. Using the 'single' degree distribution defined in the Transmitter class, send the raccoon over a channel with erasure probability 0.2.**  How many packets did you need to send?"
   ]
  },
  {
   "cell_type": "code",
   "execution_count": null,
   "metadata": {
    "scrolled": true
   },
   "outputs": [],
   "source": [
    "# BEGIN YOUR SOLUTION\n",
    "# Set the below values to setup the channel\n",
    "eps = 1\n",
    "ch = Channel(None)\n",
    "tx = Transmitter([], None, None)\n",
    "rx = Receiver(0, None)\n",
    "# END YOUR SOLUTION\n",
    "\n",
    "single_sent, images, single_decoded = send(tx,rx)\n",
    "\n",
    "print(\"The number of packets sent: {}\".format(single_sent))\n",
    "\n",
    "n_of_figures = len(images)\n",
    "fig = plt.figure(figsize=(8, 3*n_of_figures))\n",
    "\n",
    "for i in range(n_of_figures):\n",
    "    fig.add_subplot(n_of_figures,1,i+1)\n",
    "    plt.imshow(images[i], cmap = cm.Greys_r)"
   ]
  },
  {
   "cell_type": "markdown",
   "metadata": {},
   "source": [
    "**c. Plot the number of chunks decoded as a function of the number of packets you send. (The chunks_decoded array should be helpful here)**"
   ]
  },
  {
   "cell_type": "code",
   "execution_count": null,
   "metadata": {},
   "outputs": [],
   "source": [
    "# BEGIN YOUR SOLUTION\n",
    "\n",
    "# END YOUR SOLUTION"
   ]
  },
  {
   "cell_type": "markdown",
   "metadata": {},
   "source": [
    "**d. Looking at the graph, we see that it gets harder and harder to find the rest as we decode more and more chunks. Does this remind you of a well known theoretical problem?**\n",
    "\n",
    "Hint: Try out some small examples!"
   ]
  },
  {
   "cell_type": "markdown",
   "metadata": {},
   "source": [
    "YOUR ANSWER HERE"
   ]
  },
  {
   "cell_type": "markdown",
   "metadata": {},
   "source": [
    "**e. Using the 'double' degree distribution defined in the Transmitter class, send the raccoon over a channel with erasure probability 0.2. Don't worry about intermediate plots this time. What happens?**"
   ]
  },
  {
   "cell_type": "code",
   "execution_count": null,
   "metadata": {},
   "outputs": [],
   "source": [
    "# BEGIN YOUR SOLUTION\n",
    "eps = 1\n",
    "ch = Channel(None)\n",
    "tx = Transmitter([], None, None)\n",
    "rx = Receiver(0, None)\n",
    "# END YOUR SOLUTION\n",
    "\n",
    "double_sent, images, double_decoded = send(tx,rx)\n",
    "print(\"The number of packets sent: {}\".format(double_sent))"
   ]
  },
  {
   "cell_type": "markdown",
   "metadata": {},
   "source": [
    "YOUR ANSWER HERE"
   ]
  },
  {
   "cell_type": "markdown",
   "metadata": {},
   "source": [
    "## Q3. Randomized Distributions"
   ]
  },
  {
   "cell_type": "markdown",
   "metadata": {},
   "source": [
    "**a. You have seen two degree distributions so far.  Both of these have been deterministic, and one worked better than the other.  Let's try a different degree distribution.  Using the 'baseline' degree distribution, send the raccoon over a channel with erasure probability 0.2 over multiple trials. For each trial, record the number of packets sent for the image to be decoded. Then, plot this as a histogram.**"
   ]
  },
  {
   "cell_type": "code",
   "execution_count": null,
   "metadata": {},
   "outputs": [],
   "source": [
    "num_trials = 100  # do not change this\n",
    "# BEGIN YOUR SOLUTION\n",
    "eps = 1\n",
    "ch = Channel(None)\n",
    "tx = Transmitter([], None, None)\n",
    "# END YOUR SOLUTION\n",
    "\n",
    "packets_required = []\n",
    "\n",
    "for _ in range(num_trials):\n",
    "    rx = Receiver(0, None)\n",
    "    # BEGIN YOUR SOLUTION\n",
    "    \n",
    "    # END YOUR SOLUTION\n",
    "    \n",
    "    \n",
    "# Plot the packets required as a histogram\n",
    "# BEGIN YOUR SOLUTION\n",
    "\n",
    "# END YOUR SOLUTION"
   ]
  },
  {
   "cell_type": "markdown",
   "metadata": {},
   "source": [
    "**b. Let's examine one final degree distribution. Using the 'sd' degree distribution, send the image over a channel with erasure probability 0.2. Plot the number of packets decoded against the number of packets transmitted.**"
   ]
  },
  {
   "cell_type": "code",
   "execution_count": null,
   "metadata": {},
   "outputs": [],
   "source": [
    "# BEGIN YOUR SOLUTION\n",
    "eps = 1\n",
    "ch = Channel(None)\n",
    "tx = Transmitter([], None, None)\n",
    "\n",
    "\n",
    "# END YOUR SOLUTION"
   ]
  },
  {
   "cell_type": "markdown",
   "metadata": {},
   "source": [
    "## Q4. Competition Model\n",
    "\n",
    "Alice has just finished eating dinner, and with her EECS 126 homework completed early for once, she plans to sit down for a movie night (she wants to make use of the 30-day free trial of Netflix!).  While Alice is surfing Netflix she decides she wants to stream Interstellar. Alice's laptop drops packets with $p=0.2$.  You, the Chief Technology Officer of Netflix, know that given the heavy workload of EECS 126, this may be your only chance to convert this freeloading customer into a permanent one, but to do so you're going to have to make sure her viewing experience is perfect.\n",
    "\n",
    "### Concrete specs:\n",
    "\n",
    "- You are given an erasure channel with drop probability $p=0.2$.\n",
    "- You must define a degree distribution (which can vary as a function of the # of transmissions already sent) to minimize the number of total packets needed to be sent for the raccoon to be decoded.  Run your code for 10 trials to get a good estimate of the true number of transmissions needed per image while they watch their movies.  Each trial, your score is \n",
    "\n",
    "$$\\frac{\\text{# of packets successfully decoded from the first 512 packets}}{512}+\\frac{\\text{# of packets successfully decoded from the first 1024 packets}}{1024}+\\lfloor\\frac{\\text{# of packets successfully decoded from the first 2048 packets}}{1024}\\rfloor+\\lfloor\\frac{\\text{# of packets successfully decoded from the first 4096 packets}}{1024}\\rfloor+\\lfloor\\frac{\\text{# of packets successfully decoded from the first 6144 packets}}{1024}\\rfloor$$\n",
    "\n",
    "- Note the floor function in the later stages - you can only get the point if you fully decode the file with the alloted number of packets\n",
    "\n",
    "- In order to receive full credit for this question, you must receive a score of >= 3\n",
    "- **You may work in teams of up to three.**\n",
    "- Hint: you can use the num_sent argument of Transmitter if you want\n",
    "\n",
    "\n",
    "Good luck! \n",
    "\n",
    "*If you place in the top 3 teams in the class you will receive extra credit!*\n",
    "\n",
    "*Note that we will be rerunning solutions, so do not cheat.*"
   ]
  },
  {
   "cell_type": "code",
   "execution_count": null,
   "metadata": {},
   "outputs": [],
   "source": [
    "from math import floor\n",
    "\n",
    "def score(chunks_decoded):\n",
    "    c_d = chunks_decoded\n",
    "    s = c_d[8]/512+c_d[16]/1024\n",
    "    arr = [33,65,97]\n",
    "    for i in arr:\n",
    "        if i >= len(c_d):\n",
    "            s += 1\n",
    "    return s"
   ]
  },
  {
   "cell_type": "code",
   "execution_count": null,
   "metadata": {},
   "outputs": [],
   "source": [
    "# YOUR CODE HERE"
   ]
  },
  {
   "cell_type": "markdown",
   "metadata": {},
   "source": [
    "### Results\n",
    "\n",
    "- **Report the average score (averaged over 100 trials)**: SCORE\n",
    "- **Report the names of your teammates**: TEAMMATES"
   ]
  },
  {
   "cell_type": "markdown",
   "metadata": {},
   "source": [
    "## References\n",
    "[1] D. Mackay.  Information Theory, Inference, and Learning Algorithms. 2003 <br>\n",
    "[2] http://blog.notdot.net/2012/01/Damn-Cool-Algorithms-Fountain-Codes"
   ]
  }
 ],
 "metadata": {
  "anaconda-cloud": {},
  "kernelspec": {
   "display_name": "Python 3",
   "language": "python",
   "name": "python3"
  },
  "language_info": {
   "codemirror_mode": {
    "name": "ipython",
    "version": 3
   },
   "file_extension": ".py",
   "mimetype": "text/x-python",
   "name": "python",
   "nbconvert_exporter": "python",
   "pygments_lexer": "ipython3",
   "version": "3.7.7"
  }
 },
 "nbformat": 4,
 "nbformat_minor": 4
}
