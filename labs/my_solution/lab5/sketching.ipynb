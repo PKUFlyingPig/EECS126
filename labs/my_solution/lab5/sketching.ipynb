{
 "cells": [
  {
   "cell_type": "markdown",
   "metadata": {},
   "source": [
    "# Matrix Sketching #"
   ]
  },
  {
   "cell_type": "markdown",
   "metadata": {},
   "source": [
    "#### Authors:\n",
    "v1.0 (2019 Spring) Justin Hong, Vipul Gupta, and Kannan Ramchandran"
   ]
  },
  {
   "cell_type": "markdown",
   "metadata": {},
   "source": [
    "## Introduction"
   ]
  },
  {
   "cell_type": "markdown",
   "metadata": {},
   "source": [
    "Sketching is an efficient matrix computation technique from randomized linear algebra with a wide range of applications like low-rank approximation, least squares, etc. During sketching, a large matrix is compressed into a smaller matrix by multiplying it by a random matrix. The smaller matrix can be then used as a proxy for the large matrix for efficient (but approximate) computation. In this lab, we will look at sketching-based multiplication of two large matrices."
   ]
  },
  {
   "cell_type": "markdown",
   "metadata": {},
   "source": [
    "## 1) Sketch Implementations ##"
   ]
  },
  {
   "cell_type": "markdown",
   "metadata": {},
   "source": [
    "Gaussian-sketch and count-sketch are two popular sketching methods in the literature. You will be implementing both of them and analyzing their characteristics and performance on test data. To check your implementation, run the code blocks below the function definition to visualize the expectations and variances of each entry in $\\mathbf S^T\\mathbf S$ for your sketching matrix $\\mathbf S$. They should parallel the results from your HW problem on matrix sketching."
   ]
  },
  {
   "cell_type": "code",
   "execution_count": null,
   "metadata": {
    "collapsed": true,
    "jupyter": {
     "outputs_hidden": true
    }
   },
   "outputs": [],
   "source": [
    "%matplotlib inline\n",
    "import numpy as np\n",
    "import matplotlib.pyplot as plt\n",
    "import time"
   ]
  },
  {
   "cell_type": "markdown",
   "metadata": {},
   "source": [
    "### Gaussian Sketch###\n",
    "As seen in your homework, the Gaussian sketch is simply a $d\\times n$ matrix where each element $S_{ij} \\sim Normal(0,\\frac{1}{d})$."
   ]
  },
  {
   "cell_type": "code",
   "execution_count": null,
   "metadata": {
    "collapsed": true,
    "jupyter": {
     "outputs_hidden": true
    }
   },
   "outputs": [],
   "source": [
    "def gaussian_sketch(d, n):\n",
    "    ## YOUR CODE HERE ##\n",
    "    return "
   ]
  },
  {
   "cell_type": "markdown",
   "metadata": {},
   "source": [
    "As we derived in the homework solution, the element-wise expectation and variance of $\\hat{\\textbf{I}} = \\textbf{S}^T\\textbf{S}$ are\n",
    "$$\n",
    "   \\mathbb{E}[\\hat I_{ij}] = \n",
    "\\begin{cases}\n",
    "    1, & \\text{if} ~i=j\\\\\n",
    "    0, & \\text{otherwise}.\n",
    "\\end{cases}\n",
    "~~~~~~~~~~\n",
    "\\text{Var}[\\hat I_{ij}] = \n",
    "\\begin{cases}\n",
    "    2/d, & \\text{if} ~i=j\\\\\n",
    "    1/d, & \\text{otherwise}.\n",
    "\\end{cases}\n",
    "$$\n",
    "The above expressions for Gaussian sketch can be verified by generating some nice visualizations of the variance and expectations as shown below. "
   ]
  },
  {
   "cell_type": "code",
   "execution_count": null,
   "metadata": {
    "collapsed": true,
    "jupyter": {
     "outputs_hidden": true
    }
   },
   "outputs": [],
   "source": [
    "def visualize(fn, n=50, d=30, n_samples=50):\n",
    "    # Sample generation\n",
    "    sketch_matrices = [fn(d, n) for _ in range(n_samples)]\n",
    "    sketch_matrices = np.stack(list(mtx.T.dot(mtx) for mtx in sketch_matrices), axis=2)\n",
    "    expect_data = np.mean(sketch_matrices, axis=2)\n",
    "    var_data = np.var(sketch_matrices, axis=2)\n",
    "    \n",
    "    # Visualization\n",
    "    fig, (ax1, ax2) = plt.subplots(1,2, figsize=(15, 4))\n",
    "    fig.tight_layout()\n",
    "    \n",
    "    im1 = ax1.imshow(expect_data, cmap='YlGn')\n",
    "    cbar1 = ax1.figure.colorbar(im1, ax=ax1)\n",
    "    cbar1.ax.set_ylabel(\"Expectation\", rotation=-90, va=\"bottom\")\n",
    "    \n",
    "    im2 = ax2.imshow(var_data, cmap='YlGn')\n",
    "    cbar2 = ax2.figure.colorbar(im2, ax=ax2)\n",
    "    cbar2.ax.set_ylabel(\"Variance\", rotation=-90, va=\"bottom\")\n",
    "    return"
   ]
  },
  {
   "cell_type": "code",
   "execution_count": null,
   "metadata": {},
   "outputs": [],
   "source": [
    "visualize(gaussian_sketch)"
   ]
  },
  {
   "cell_type": "markdown",
   "metadata": {},
   "source": [
    "Note how the diagonal entries of the $n\\times n$ matrix $\\mathbf{\\hat I}$ are close to one and non-diagonal entries are close to zero in expectation. Similarly, the variance of each element in $\\mathbf{\\hat I}$ is small (diagonal entries have more variance than non-diagonal entries as predicted by our expression for variance of $\\mathbf{\\hat I}$)."
   ]
  },
  {
   "cell_type": "markdown",
   "metadata": {},
   "source": [
    "### Count Sketch###\n",
    "The count sketch is slightly more involved.\n",
    "For each column $j\\in [1,n]$ of $\\textbf{S}$, choose a row $i$ uniformly randomly from $[1,d]$ such that \n",
    "$$\n",
    "   S_{ij}= \n",
    "\\begin{cases}\n",
    "    1,& \\text{with probability} ~0.5\\\\\n",
    "    -1,              & \\text{with probability}~ 0.5\n",
    "\\end{cases}\n",
    "$$\n",
    "and assign $S_{kj} = 0$ for all $k\\neq i$. An example of a $3\\times 8$ count-sketch is \n",
    "$$ \\textbf{S} = \\begin{bmatrix} \n",
    "    0 & -1 & 1 & 0 & 0 & 1 & 0 & 0\\\\\n",
    "    1 & 0 & 0 & 0 & -1 & 0 & -1 & 0\\\\\n",
    "    0 & 0 & 0 & -1 & 0 & 0 & 0 & -1\n",
    "\\end{bmatrix}\n",
    "$$ \n",
    "\n",
    "Next, we implement the function that generates a count-sketch (this we have implemented for you)."
   ]
  },
  {
   "cell_type": "code",
   "execution_count": null,
   "metadata": {
    "collapsed": true,
    "jupyter": {
     "outputs_hidden": true
    }
   },
   "outputs": [],
   "source": [
    "def count_sketch(d, n):\n",
    "    sketch = np.zeros((d, n))\n",
    "    \"\"\"\n",
    "    mappings: n-dimesional vector (j-th entry denotes which row-element is non-zero for the j-th column) \n",
    "    flips: denotes whether the non-zero element is 1 or -1\n",
    "    \"\"\"\n",
    "    mappings = np.random.randint(0, d, size=(1, n))\n",
    "    flips = np.random.choice([-1,1], size=(1, n))\n",
    "    sketch[mappings, np.arange(n)] = flips\n",
    "    return sketch"
   ]
  },
  {
   "cell_type": "markdown",
   "metadata": {},
   "source": [
    "The element-wise expectation and variance of the matrix $\\hat{\\textbf{I}} = \\textbf{S}^T\\textbf{S}$ are (see homework solution)\n",
    "$$\n",
    "   \\mathbb{E}[\\hat I_{ij}] = \n",
    "\\begin{cases}\n",
    "    1, & \\text{if} ~i=j\\\\\n",
    "    0, & \\text{otherwise}.\n",
    "\\end{cases}\n",
    "~~~~~~~~~~\n",
    "\\text{Var}[\\hat I_{ij}] = \n",
    "\\begin{cases}\n",
    "    0, & \\text{if} ~i=j\\\\\n",
    "    1/d, & \\text{otherwise}.\n",
    "\\end{cases}\n",
    "$$\n",
    "Again, we verify the above expressions for count sketch by generating similar visualizations below. "
   ]
  },
  {
   "cell_type": "code",
   "execution_count": null,
   "metadata": {},
   "outputs": [],
   "source": [
    "visualize(count_sketch)"
   ]
  },
  {
   "cell_type": "markdown",
   "metadata": {},
   "source": [
    "Note how the matrix $\\hat{\\textbf{I}}$ is close to identity in expectation. The variance of the diagonal entries is exactly zero, while the non-diagonal variance is small."
   ]
  },
  {
   "cell_type": "markdown",
   "metadata": {},
   "source": [
    "## 2) Sketched Matrix Multiplication ##"
   ]
  },
  {
   "cell_type": "markdown",
   "metadata": {},
   "source": [
    "Next, we will discuss approximate matrix multiplication using sketching. We will compute the matrix product $\\mathbf A^T\\mathbf A$, where $\\mathbf A \\in \\mathcal{R}^{n\\times m}$, using Gaussian and count sketches and compare it with the exact product.\n",
    "\n",
    "As can be noted from the expression of variance of $\\mathbf{\\hat I} = \\textbf{S}^T\\textbf{S}$, the accuracy of the sketching-based computation increases as the sketch dimension $d$ increases, that is, $\\mathbf{\\hat I}$ closely approximates $\\mathbf I$. To see how well sketching approximates the matrix product $\\mathbf A^T\\mathbf A$, we will use the Frobenius norm error $\\parallel{}(\\mathbf{SA})^T\\mathbf{SA} - \\mathbf{A}^T\\mathbf A \\parallel_F$ as a metric for distance from the actual product. More specifically, we define percentage error in sketched matrix multiplication as\n",
    "$$Error (\\%) = 100\\times\\frac{\\parallel{}(\\mathbf{SA})^T\\mathbf{SA} - \\mathbf{A}^T\\mathbf A \\parallel_F}{\\parallel{}\\mathbf{A}^T\\mathbf A \\parallel_F}.$$\n",
    "Our definition of error is one way to capture the element-wise similarity between the two matrices.\n",
    "\n",
    "(Note: The frobenius norm of a matrix $\\mathbf{M}$ is $\\|\\mathbf{M}\\|_F = \\sqrt{\\sum_{i,j} M_{ij}^2}$).\n",
    "\n",
    "Next, we will calculate the compute times for sketched matrix multiplication and compare it with the time required for exact multiplication."
   ]
  },
  {
   "cell_type": "code",
   "execution_count": null,
   "metadata": {
    "collapsed": true,
    "jupyter": {
     "outputs_hidden": true
    }
   },
   "outputs": [],
   "source": [
    "# Generate a random matrix A of size n x m\n",
    "n = 15000\n",
    "m = 1000\n",
    "A = np.random.normal(50, 100, size = (n, m))"
   ]
  },
  {
   "cell_type": "code",
   "execution_count": null,
   "metadata": {
    "collapsed": true,
    "jupyter": {
     "outputs_hidden": true
    }
   },
   "outputs": [],
   "source": [
    "def calc_gauss_sketch(d, A):\n",
    "    \"\"\"\n",
    "    Calculates Gaussian-sketch of A, that is S*A, with sketch-dimension d\n",
    "    \"\"\"\n",
    "    ##### Write your CODE here (use the function gaussian_sketch). Should take one or two lines at most.\n",
    "    return "
   ]
  },
  {
   "cell_type": "markdown",
   "metadata": {},
   "source": [
    "Note that Gaussian sketch can be used to find a smaller matrix that can be used as a proxy for $\\mathbf A$, but it does not help in reducing computation time for matrix multiplication. Gaussian sketching $\\mathbf A$ requires $O(mnd)$ time.\n",
    "\n",
    "However, count sketch has a special sparse structure, and we can utilize it to calculate the sketch $\\mathbf C = \\mathbf {SA}$ in $O(mn)$ time. This is done by directly producing the sketched matrix from $A$ rather than producing $S$ explicitly. In the function \"calc_count_sketch\" defined below, use the following algorithm to calculate $\\mathbf C = \\mathbf {SA}$ directly from $\\mathbf A$.\n",
    "<br>\n",
    "1. Set $\\mathbf C$ to be an all zeros matrix in $\\mathcal{R}^{d\\times m}$.\n",
    "2. For each row of $A$, flip the sign with probability 0.5, and then add it to a randomly picked row of $C$."
   ]
  },
  {
   "cell_type": "code",
   "execution_count": null,
   "metadata": {
    "collapsed": true,
    "jupyter": {
     "outputs_hidden": true
    }
   },
   "outputs": [],
   "source": [
    "def calc_count_sketch(d, A):\n",
    "    \"\"\"\n",
    "    Calculates count-sketch of A, that is S*A, with sketch-dimension d using the algorithm above\n",
    "    \"\"\"\n",
    "    ##### Write your CODE here \n",
    "    \n",
    "    return "
   ]
  },
  {
   "cell_type": "code",
   "execution_count": null,
   "metadata": {
    "collapsed": true,
    "jupyter": {
     "outputs_hidden": true
    }
   },
   "outputs": [],
   "source": [
    "def calc_error(exact_product, sketched_product):\n",
    "    \"\"\"\n",
    "    Calculate percentage error in Frobenius norm as defined above\n",
    "    \"\"\"\n",
    "    return 100*np.linalg.norm(exact_product - sketched_product, ord='fro')/np.linalg.norm(exact_product, ord='fro')"
   ]
  },
  {
   "cell_type": "code",
   "execution_count": null,
   "metadata": {
    "collapsed": true,
    "jupyter": {
     "outputs_hidden": true
    }
   },
   "outputs": [],
   "source": [
    "def generate_plots(A, num_samples = 5):\n",
    "    \"\"\"\n",
    "    This function generates time and error plots for sketched matrix multiplication\n",
    "    \"\"\"\n",
    "    n,m = A.shape\n",
    "    sketch_dims = [int(m*x/4) for x in range(5,12,1)]\n",
    "    print(\"Sketch dimensions considered\")\n",
    "    print(list(sketch_dims))\n",
    "    \n",
    "    a = len(sketch_dims)\n",
    "    g_time = np.zeros(a)\n",
    "    g_error = np.zeros(a)\n",
    "    c_time = np.zeros(a)\n",
    "    c_error = np.zeros(a)\n",
    "    iter = 0\n",
    "       \n",
    "    ## Calculating exact product\n",
    "    t1 = time.time()\n",
    "    exact_product = (A.T).dot(A)\n",
    "    t_exact = time.time() - t1\n",
    "    \n",
    "    for d in sketch_dims:\n",
    "        for _ in range(num_samples):\n",
    "            ## Gaussian sketch\n",
    "            t2 = time.time()\n",
    "            g_sketch = calc_gauss_sketch(d, A)\n",
    "            g_product = g_sketch.T.dot(g_sketch)\n",
    "            g_time[iter] += time.time() - t2\n",
    "            g_error[iter] += calc_error(exact_product, g_product)\n",
    "\n",
    "            ## Count sketch\n",
    "            t3 = time.time()\n",
    "            c_sketch = calc_count_sketch(d, A)\n",
    "            c_product = c_sketch.T.dot(c_sketch)\n",
    "            c_time[iter] += time.time() - t3\n",
    "            c_error[iter] += calc_error(exact_product, c_product)\n",
    "        iter += 1 \n",
    "    \n",
    "    ## Averaging error over all sample points\n",
    "    g_time = g_time/num_samples\n",
    "    g_error = g_error/num_samples\n",
    "    c_time = c_time/num_samples\n",
    "    c_error = c_error/num_samples\n",
    "    \n",
    "    fig, ax = plt.subplots(1,1,figsize=(12, 4))\n",
    "    ax.plot(sketch_dims, g_error, label=\"Gaussian Sketch\")\n",
    "    ax.plot(sketch_dims, c_error, label=\"Count Sketch\")\n",
    "    ax.legend(loc=\"best\")\n",
    "    ax.set_xlabel(\"Sketch dimension (d)\")\n",
    "    ax.set_ylabel(\"Percentage Error\")\n",
    "    ax.set_ylim(bottom=0)\n",
    "    ax.grid(True)\n",
    "    ax.set_title(\"Error for Count and Gaussian sketches\")\n",
    "    \n",
    "    fig, (ax1, ax2) = plt.subplots(1,2,figsize=(12, 4))\n",
    "    ax1.plot(sketch_dims, g_time, label=\"Gaussian Sketch\")\n",
    "    ax1.plot(sketch_dims, t_exact*np.ones(len(sketch_dims)), label=\"Exact multiplication\")\n",
    "    ax1.legend(loc=\"best\")\n",
    "    ax1.set_xlabel(\"Sketch dimension (d)\")\n",
    "    ax1.set_ylabel(\"Time to compute product (seconds)\")\n",
    "    ax1.set_ylim(bottom=0)\n",
    "    ax1.grid(True)   \n",
    "    ax1.set_title(\"Compute time for Gaussian-sketched Multiply\")\n",
    "    \n",
    "    ax2.plot(sketch_dims, c_time, label=\"Count Sketch\")\n",
    "    ax2.plot(sketch_dims, t_exact*np.ones(len(sketch_dims)), label=\"Exact multiplication\")\n",
    "    ax2.legend(loc=\"best\")\n",
    "    ax2.set_xlabel(\"Sketch dimension (d)\")\n",
    "    ax2.set_ylabel(\"Time to compute product (seconds)\")\n",
    "    ax2.set_ylim(bottom=0, top=ax2.get_ylim()[1]*1.15)\n",
    "    ax2.grid(True)   \n",
    "    ax2.set_title(\"Compute time for Count-sketched Multiply\")\n",
    "    \n",
    "    plt.show()"
   ]
  },
  {
   "cell_type": "code",
   "execution_count": null,
   "metadata": {},
   "outputs": [],
   "source": [
    "### This might take a few minutes to run, reduce n_samples to reduce running time (especially while debugging)\n",
    "generate_plots(A)"
   ]
  },
  {
   "cell_type": "markdown",
   "metadata": {},
   "source": [
    "Voila! We have improved the compute time for large matrix multiplication using count-sketch by taking advantage of the sketch characteristics. For $\\mathbf A \\in \\mathcal{R}^{n\\times m}, \\mathbf S \\in \\mathcal{R}^{d\\times n}$ and $n \\gg d > m$, determine the time complexity for sketching-based multiplication for both gaussian and count sketches and compare it with the complexity for the exact multiplication $O(m^2n)$. See if it matches the figures generated above. Note that the time complexities given earlier in the lab were only for finding the sketching matrix $\\mathbf A$ and not the time complexity for the whole multiplication."
   ]
  },
  {
   "cell_type": "markdown",
   "metadata": {},
   "source": [
    "##### YOUR ANSWER HERE ####"
   ]
  },
  {
   "cell_type": "markdown",
   "metadata": {},
   "source": []
  }
 ],
 "metadata": {
  "anaconda-cloud": {},
  "kernelspec": {
   "display_name": "Python 3",
   "language": "python",
   "name": "python3"
  },
  "language_info": {
   "codemirror_mode": {
    "name": "ipython",
    "version": 3
   },
   "file_extension": ".py",
   "mimetype": "text/x-python",
   "name": "python",
   "nbconvert_exporter": "python",
   "pygments_lexer": "ipython3",
   "version": "3.8.3"
  }
 },
 "nbformat": 4,
 "nbformat_minor": 4
}
